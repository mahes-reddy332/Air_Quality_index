{
 "cells": [
  {
   "cell_type": "markdown",
   "id": "feea130c-b7b6-42c1-9046-90c5c370e798",
   "metadata": {},
   "source": [
    "# Air Quality Index (AQI) Analysis"
   ]
  },
  {
   "cell_type": "markdown",
   "id": "3623dd8d-ba75-40c2-aa42-cc801ec1aaa9",
   "metadata": {},
   "source": [
    "## Objective\n",
    "### Analyze AQI trends globally, identify most polluted countries, and understand temporal patterns."
   ]
  },
  {
   "cell_type": "markdown",
   "id": "5484ee5a-6d18-4e51-9b81-afadd0ec8ac7",
   "metadata": {},
   "source": [
    "## Dataset\n",
    "- Columns: Date, Country, Status, AQI Value\n",
    "- Cleaned and imported into MySQL"
   ]
  },
  {
   "cell_type": "code",
   "execution_count": 22,
   "id": "587a2c20-d6c4-4e7a-ad81-84c947c6a083",
   "metadata": {},
   "outputs": [
    {
     "name": "stdout",
     "output_type": "stream",
     "text": [
      "             Date                   Country                          Status  \\\n",
      "0      2022-07-21                   Albania                            Good   \n",
      "1      2022-07-21                   Algeria                        Moderate   \n",
      "2      2022-07-21                   Andorra                        Moderate   \n",
      "3      2022-07-21                    Angola  Unhealthy for Sensitive Groups   \n",
      "4      2022-07-21                 Argentina                        Moderate   \n",
      "...           ...                       ...                             ...   \n",
      "19943  2025-07-03  United States of America                        Moderate   \n",
      "19944  2025-07-03                Uzbekistan                            Good   \n",
      "19945  2025-07-03                   Vatican                        Moderate   \n",
      "19946  2025-07-03                 Venezuela                            Good   \n",
      "19947  2025-07-03                   Vietnam                        Moderate   \n",
      "\n",
      "       AQI Value  \n",
      "0             14  \n",
      "1             65  \n",
      "2             55  \n",
      "3            113  \n",
      "4             63  \n",
      "...          ...  \n",
      "19943         88  \n",
      "19944         18  \n",
      "19945         70  \n",
      "19946          6  \n",
      "19947         55  \n",
      "\n",
      "[19948 rows x 4 columns]\n"
     ]
    }
   ],
   "source": [
    "from sqlalchemy import create_engine\n",
    "import pandas as pd\n",
    "import urllib.parse\n",
    "\n",
    "# Credentials\n",
    "username = 'root'\n",
    "password = urllib.parse.quote_plus('Mahes@123Zz')  # ✅ This handles special chars like @ or #\n",
    "\n",
    "host = '127.0.0.1'\n",
    "port = 3306\n",
    "database = 'aqi_project'\n",
    "\n",
    "# Proper connection string\n",
    "connection_string = f'mysql+mysqlconnector://{username}:{password}@{host}:{port}/{database}'\n",
    "\n",
    "# Create SQLAlchemy engine\n",
    "engine = create_engine(connection_string)\n",
    "\n",
    "# Run test query\n",
    "query = \"SELECT * FROM urs\"\n",
    "df = pd.read_sql(query, engine)\n",
    "print(df)\n"
   ]
  },
  {
   "cell_type": "markdown",
   "id": "28cbc8af-4264-41f7-8e5e-86ab905bcbf2",
   "metadata": {},
   "source": [
    "## SQL Analysis\n",
    "- Avg AQI per country\n",
    "- AQI status distribution\n",
    "- Trend over time"
   ]
  },
  {
   "cell_type": "code",
   "execution_count": 23,
   "id": "72d1a679-f8ff-4ed5-816a-38bd0658424a",
   "metadata": {},
   "outputs": [
    {
     "data": {
      "text/html": [
       "<div>\n",
       "<style scoped>\n",
       "    .dataframe tbody tr th:only-of-type {\n",
       "        vertical-align: middle;\n",
       "    }\n",
       "\n",
       "    .dataframe tbody tr th {\n",
       "        vertical-align: top;\n",
       "    }\n",
       "\n",
       "    .dataframe thead th {\n",
       "        text-align: right;\n",
       "    }\n",
       "</style>\n",
       "<table border=\"1\" class=\"dataframe\">\n",
       "  <thead>\n",
       "    <tr style=\"text-align: right;\">\n",
       "      <th></th>\n",
       "      <th>country</th>\n",
       "      <th>avg_aqi</th>\n",
       "    </tr>\n",
       "  </thead>\n",
       "  <tbody>\n",
       "    <tr>\n",
       "      <th>0</th>\n",
       "      <td>Saudi Arabia</td>\n",
       "      <td>272.0000</td>\n",
       "    </tr>\n",
       "    <tr>\n",
       "      <th>1</th>\n",
       "      <td>Qatar</td>\n",
       "      <td>183.0000</td>\n",
       "    </tr>\n",
       "    <tr>\n",
       "      <th>2</th>\n",
       "      <td>Iran</td>\n",
       "      <td>177.2174</td>\n",
       "    </tr>\n",
       "    <tr>\n",
       "      <th>3</th>\n",
       "      <td>Iraq</td>\n",
       "      <td>172.3913</td>\n",
       "    </tr>\n",
       "    <tr>\n",
       "      <th>4</th>\n",
       "      <td>India</td>\n",
       "      <td>171.6522</td>\n",
       "    </tr>\n",
       "  </tbody>\n",
       "</table>\n",
       "</div>"
      ],
      "text/plain": [
       "        country   avg_aqi\n",
       "0  Saudi Arabia  272.0000\n",
       "1         Qatar  183.0000\n",
       "2          Iran  177.2174\n",
       "3          Iraq  172.3913\n",
       "4         India  171.6522"
      ]
     },
     "execution_count": 23,
     "metadata": {},
     "output_type": "execute_result"
    }
   ],
   "source": [
    "query = \"\"\"\n",
    "SELECT country, AVG(aqi_value) AS avg_aqi\n",
    "FROM air_quality\n",
    "GROUP BY country\n",
    "ORDER BY avg_aqi DESC\n",
    "\"\"\"\n",
    "df_avg = pd.read_sql(query, engine)\n",
    "df_avg.head()\n"
   ]
  },
  {
   "cell_type": "code",
   "execution_count": 24,
   "id": "08097ac1-e739-420b-bf9b-d9ce13853654",
   "metadata": {},
   "outputs": [
    {
     "data": {
      "text/html": [
       "<div>\n",
       "<style scoped>\n",
       "    .dataframe tbody tr th:only-of-type {\n",
       "        vertical-align: middle;\n",
       "    }\n",
       "\n",
       "    .dataframe tbody tr th {\n",
       "        vertical-align: top;\n",
       "    }\n",
       "\n",
       "    .dataframe thead th {\n",
       "        text-align: right;\n",
       "    }\n",
       "</style>\n",
       "<table border=\"1\" class=\"dataframe\">\n",
       "  <thead>\n",
       "    <tr style=\"text-align: right;\">\n",
       "      <th></th>\n",
       "      <th>status</th>\n",
       "      <th>count</th>\n",
       "    </tr>\n",
       "  </thead>\n",
       "  <tbody>\n",
       "    <tr>\n",
       "      <th>0</th>\n",
       "      <td>Good</td>\n",
       "      <td>1507</td>\n",
       "    </tr>\n",
       "    <tr>\n",
       "      <th>1</th>\n",
       "      <td>Moderate</td>\n",
       "      <td>1215</td>\n",
       "    </tr>\n",
       "    <tr>\n",
       "      <th>2</th>\n",
       "      <td>Unhealthy for Sensitive Groups</td>\n",
       "      <td>293</td>\n",
       "    </tr>\n",
       "    <tr>\n",
       "      <th>3</th>\n",
       "      <td>Unhealthy</td>\n",
       "      <td>147</td>\n",
       "    </tr>\n",
       "    <tr>\n",
       "      <th>4</th>\n",
       "      <td>Very Unhealthy</td>\n",
       "      <td>22</td>\n",
       "    </tr>\n",
       "    <tr>\n",
       "      <th>5</th>\n",
       "      <td>Hazardous</td>\n",
       "      <td>3</td>\n",
       "    </tr>\n",
       "  </tbody>\n",
       "</table>\n",
       "</div>"
      ],
      "text/plain": [
       "                           status  count\n",
       "0                            Good   1507\n",
       "1                        Moderate   1215\n",
       "2  Unhealthy for Sensitive Groups    293\n",
       "3                       Unhealthy    147\n",
       "4                  Very Unhealthy     22\n",
       "5                       Hazardous      3"
      ]
     },
     "execution_count": 24,
     "metadata": {},
     "output_type": "execute_result"
    }
   ],
   "source": [
    "df_status = pd.read_sql(\"SELECT status, COUNT(*) AS count FROM air_quality GROUP BY status\", engine)\n",
    "df_status"
   ]
  },
  {
   "cell_type": "code",
   "execution_count": 25,
   "id": "9d59b9af-adfd-4d4d-8b18-01d626dc714a",
   "metadata": {},
   "outputs": [
    {
     "data": {
      "text/html": [
       "<div>\n",
       "<style scoped>\n",
       "    .dataframe tbody tr th:only-of-type {\n",
       "        vertical-align: middle;\n",
       "    }\n",
       "\n",
       "    .dataframe tbody tr th {\n",
       "        vertical-align: top;\n",
       "    }\n",
       "\n",
       "    .dataframe thead th {\n",
       "        text-align: right;\n",
       "    }\n",
       "</style>\n",
       "<table border=\"1\" class=\"dataframe\">\n",
       "  <thead>\n",
       "    <tr style=\"text-align: right;\">\n",
       "      <th></th>\n",
       "      <th>data_date</th>\n",
       "      <th>daily_avg</th>\n",
       "    </tr>\n",
       "  </thead>\n",
       "  <tbody>\n",
       "    <tr>\n",
       "      <th>0</th>\n",
       "      <td>2022-07-21</td>\n",
       "      <td>64.5493</td>\n",
       "    </tr>\n",
       "    <tr>\n",
       "      <th>1</th>\n",
       "      <td>2022-07-22</td>\n",
       "      <td>63.3948</td>\n",
       "    </tr>\n",
       "    <tr>\n",
       "      <th>2</th>\n",
       "      <td>2022-07-23</td>\n",
       "      <td>61.9574</td>\n",
       "    </tr>\n",
       "    <tr>\n",
       "      <th>3</th>\n",
       "      <td>2022-07-24</td>\n",
       "      <td>60.7660</td>\n",
       "    </tr>\n",
       "    <tr>\n",
       "      <th>4</th>\n",
       "      <td>2022-07-25</td>\n",
       "      <td>60.1418</td>\n",
       "    </tr>\n",
       "    <tr>\n",
       "      <th>5</th>\n",
       "      <td>2022-07-26</td>\n",
       "      <td>61.4752</td>\n",
       "    </tr>\n",
       "    <tr>\n",
       "      <th>6</th>\n",
       "      <td>2022-07-27</td>\n",
       "      <td>58.0922</td>\n",
       "    </tr>\n",
       "    <tr>\n",
       "      <th>7</th>\n",
       "      <td>2022-07-28</td>\n",
       "      <td>60.0709</td>\n",
       "    </tr>\n",
       "    <tr>\n",
       "      <th>8</th>\n",
       "      <td>2022-07-29</td>\n",
       "      <td>61.5461</td>\n",
       "    </tr>\n",
       "    <tr>\n",
       "      <th>9</th>\n",
       "      <td>2022-07-30</td>\n",
       "      <td>60.9929</td>\n",
       "    </tr>\n",
       "    <tr>\n",
       "      <th>10</th>\n",
       "      <td>2022-07-31</td>\n",
       "      <td>60.0071</td>\n",
       "    </tr>\n",
       "    <tr>\n",
       "      <th>11</th>\n",
       "      <td>2022-08-01</td>\n",
       "      <td>57.2837</td>\n",
       "    </tr>\n",
       "    <tr>\n",
       "      <th>12</th>\n",
       "      <td>2022-08-02</td>\n",
       "      <td>60.8156</td>\n",
       "    </tr>\n",
       "    <tr>\n",
       "      <th>13</th>\n",
       "      <td>2022-08-03</td>\n",
       "      <td>59.5177</td>\n",
       "    </tr>\n",
       "    <tr>\n",
       "      <th>14</th>\n",
       "      <td>2022-08-04</td>\n",
       "      <td>62.6028</td>\n",
       "    </tr>\n",
       "    <tr>\n",
       "      <th>15</th>\n",
       "      <td>2022-08-05</td>\n",
       "      <td>62.5035</td>\n",
       "    </tr>\n",
       "    <tr>\n",
       "      <th>16</th>\n",
       "      <td>2022-08-06</td>\n",
       "      <td>58.7518</td>\n",
       "    </tr>\n",
       "    <tr>\n",
       "      <th>17</th>\n",
       "      <td>2022-08-07</td>\n",
       "      <td>54.9277</td>\n",
       "    </tr>\n",
       "  </tbody>\n",
       "</table>\n",
       "</div>"
      ],
      "text/plain": [
       "     data_date  daily_avg\n",
       "0   2022-07-21    64.5493\n",
       "1   2022-07-22    63.3948\n",
       "2   2022-07-23    61.9574\n",
       "3   2022-07-24    60.7660\n",
       "4   2022-07-25    60.1418\n",
       "5   2022-07-26    61.4752\n",
       "6   2022-07-27    58.0922\n",
       "7   2022-07-28    60.0709\n",
       "8   2022-07-29    61.5461\n",
       "9   2022-07-30    60.9929\n",
       "10  2022-07-31    60.0071\n",
       "11  2022-08-01    57.2837\n",
       "12  2022-08-02    60.8156\n",
       "13  2022-08-03    59.5177\n",
       "14  2022-08-04    62.6028\n",
       "15  2022-08-05    62.5035\n",
       "16  2022-08-06    58.7518\n",
       "17  2022-08-07    54.9277"
      ]
     },
     "execution_count": 25,
     "metadata": {},
     "output_type": "execute_result"
    }
   ],
   "source": [
    "df_trend = pd.read_sql(\"SELECT data_date, AVG(aqi_value) AS daily_avg FROM air_quality GROUP BY data_date ORDER BY data_date\", engine)\n",
    "df_trend"
   ]
  },
  {
   "cell_type": "markdown",
   "id": "9c93de31-f09d-479c-aab0-60d62e5550ef",
   "metadata": {},
   "source": [
    "## Visual Insights\n"
   ]
  },
  {
   "cell_type": "code",
   "execution_count": 26,
   "id": "ca9ca492-c8ce-4612-879f-531f8bb6d3d2",
   "metadata": {},
   "outputs": [
    {
     "data": {
      "image/png": "[encoded data removed]",
      "text/plain": [
       "<Figure size 640x480 with 1 Axes>"
      ]
     },
     "metadata": {},
     "output_type": "display_data"
    },
    {
     "data": {
      "image/png": "[encoded data removed]",
      "text/plain": [
       "<Figure size 640x480 with 1 Axes>"
      ]
     },
     "metadata": {},
     "output_type": "display_data"
    }
   ],
   "source": [
    "import matplotlib.pyplot as plt\n",
    "import seaborn as sns\n",
    "\n",
    "# Top 10 Polluted Countries\n",
    "sns.barplot(data=df_avg.head(10), x=\"avg_aqi\", y=\"country\")\n",
    "plt.title(\"Top 10 Polluted Countries\")\n",
    "plt.show()\n",
    "\n",
    "# AQI Status Pie Chart\n",
    "df_status.set_index(\"status\").plot.pie(y=\"count\", autopct=\"%.1f%%\", legend=False)\n",
    "plt.title(\"Distribution of AQI Status Categories\")\n",
    "plt.ylabel(\"\")\n",
    "plt.show()\n",
    "\n",
    "# # AQI Trend Over Time\n",
    "# plt.figure(figsize=(12,5))\n",
    "# sns.lineplot(data=df_trend, x=\"data_date\", y=\"daily_avg\")\n",
    "# plt.title(\"Global AQI Trend Over Time\")\n",
    "# plt.xlabel(\"Date\")\n",
    "# plt.ylabel(\"Average AQI\")\n",
    "# plt.xticks(rotation=45)\n",
    "# plt.show()\n"
   ]
  },
  {
   "cell_type": "code",
   "execution_count": 27,
   "id": "19004073-43d2-4162-89fe-db91e5e8fc84",
   "metadata": {},
   "outputs": [
    {
     "data": {
      "application/vnd.plotly.v1+json": {
       "config": {
        "plotlyServerURL": "https://plot.ly"
       },
       "data": [
        {
         "coloraxis": "coloraxis",
         "geo": "geo",
         "hovertemplate": "country=%{location}<br>Average AQI=%{z}<extra></extra>",
         "locationmode": "country names",
         "locations": [
          "Saudi Arabia",
          "Qatar",
          "Iran",
          "Iraq",
          "India",
          "Uganda",
          "China",
          "Gabon",
          "Ethiopia",
          "Bangladesh",
          "Bahrain",
          "United Arab Emirates",
          "Kuwait",
          "Chile",
          "Angola",
          "Central African Republic",
          "Burkina Faso",
          "Nigeria",
          "Russia",
          "Israel",
          "Thailand",
          "Indonesia",
          "Ghana",
          "Zambia",
          "Peru",
          "Italy",
          "Pakistan",
          "Mexico",
          "Spain",
          "Brazil",
          "Turkey",
          "Egypt",
          "Togo",
          "Chad",
          "United States of America",
          "Vietnam",
          "Philippines",
          "South Africa",
          "South Korea",
          "Sudan",
          "Kenya",
          "El Salvador",
          "Japan",
          "Lebanon",
          "Kazakhstan",
          "Czech Republic",
          "Turkmenistan",
          "Tajikistan",
          "Palestinian Territory",
          "Serbia",
          "Bosnia and Herzegovina",
          "Romania",
          "Algeria",
          "Colombia",
          "Malaysia",
          "Canada",
          "France",
          "Taiwan",
          "Germany",
          "Poland",
          "Cyprus",
          "Ecuador",
          "Uzbekistan",
          "Slovakia",
          "Macedonia",
          "San Marino",
          "Vatican",
          "Ukraine",
          "Armenia",
          "Hungary",
          "Bolivia",
          "Ivory Coast",
          "Nepal",
          "Georgia",
          "Gibraltar",
          "Cape Verde",
          "Malta",
          "Australia",
          "Slovenia",
          "Greece",
          "Macao",
          "Liberia",
          "Mongolia",
          "Montenegro",
          "Laos",
          "Martinique",
          "Kosovo",
          "United Kingdom of Great Britain and Northern Ireland",
          "Madagascar",
          "Kyrgyzstan",
          "Argentina",
          "Hong Kong",
          "Sri Lanka",
          "Netherlands",
          "Singapore",
          "Switzerland",
          "Croatia",
          "Belgium",
          "New Zealand",
          "Austria",
          "Andorra",
          "Trinidad and Tobago",
          "Luxembourg",
          "Monaco",
          "Guatemala",
          "Belarus",
          "Bulgaria",
          "Lithuania",
          "Senegal",
          "Albania",
          "Norway",
          "Jordan",
          "Portugal",
          "Myanmar",
          "Dominican Republic",
          "Finland",
          "Azerbaijan",
          "Jersey",
          "Liechtenstein",
          "Sweden",
          "Costa Rica",
          "Guadeloupe",
          "Gambia",
          "Grenada",
          "Latvia",
          "Honduras",
          "Estonia",
          "Belize",
          "Reunion",
          "Ireland",
          "Puerto Rico",
          "Denmark",
          "New Caledonia",
          "Moldova",
          "Bermuda",
          "Cambodia",
          "French Guiana",
          "Iceland",
          "Brunei",
          "Venezuela",
          "Cayman Islands",
          "Guam"
         ],
         "name": "",
         "type": "choropleth",
         "z": {
          "bdata": "AAAAAAAAcUAAAAAAAOBmQNBE2PD0JmZAmN2Th4WMZUBwzojS3nRlQDbNO07RNWNAwOyePCwEY0AwuycPC3liQBBYObTIYmJAAAAAAACgYUAQWDm0yMJgQMoyxLEu2l9AoImw4elNX0CQMXctIctdQHDOiNLe9FxAQBNhw9PbXECvlGWIY+FaQAAAAAAAQFpAyjLEsS5aWUCQMXctIUtYQF+YTBWMLlhAAAAAAABAV0DA7J48LCRXQAwCK4cWHVdAX5hMFYwOV0DA7J48LORWQAAAAAAAwFZAKcsQx7qIVkDKMsSxLlpWQHDOiNLeNFZAX5hMFYzuVUAAAAAAAIBVQAwCK4cWfVVA8fRKWYZsVUD0/dR46UJVQF+YTBWM7lRAAAAAAADAVEAAAAAAAMBUQJVliGNddFRAa5p3nKJrVEDwp8ZLN/1TQGB2Tx4WslNATx4Wak1vU0AAAAAAAABTQDC7Jw8L2VJAcM6I0t50UkDXNO84RTdSQF+YTBWMzlFA1zTvOEWXUUDXNO84RbdQQHDOiNLetFBAoWez6nNRUEAAAAAAAEBQQPH0SlmGLFBAAAAAAADATkAhsHJokYVOQCGwcmiRhU5AlWWIY110TkCfPCzUmt5NQELPZtXnok1Avp8aL930TECfPCzUmt5MQBkEVg4tukxArWnecYquTEAAAAAAAIBMQK1p3nGKrktAGQRWDi06S0AAAAAAAABLQMDsnjws5EpAYHZPHhaySkDBOSNKe9NJQAFNhA1Pb0lAKcsQx7poSUBfKcsQx0JJQB4Wak3zJklAAU2EDU/vSECtad5xiq5IQGHD0ytloUhArWnecYouSED/snvysBBIQB4Wak3zpkdAQBNhw9ObR0BTliGOdZFHQK1p3nGK7kZAP8bctYSsRkBTliGOdRFGQMDsnjws5EVAvjCZKhjdRUAZBFYOLXpFQAFNhA1Pb0VAIbByaJEFRUBfKcsQx8JEQBkEVg4tukRAAAAAAABAREApyxDHuuhCQFOWIY51kUJAQmDl0CKLQkABTYQNT29CQK1p3nGKLkJAP8bctYQsQkAeFmpN8yZCQOf7qfHSBUJAf9k9eVjIQUAAAAAAAMBBQIEmwoant0FAXynLEMdCQUBgdk8eFrJAQB4Wak3zpkBAAAAAAACAQEABTYQNT28/QFOWIY51UT9APSzUmuZNPECtad5xii48QFvTvOMU3TtAgSbChqc3O0CBJsKGpzc7QD0s1JrmTTlAwoanV8pCOUB/2T15WMg4QNc07zhFlzhAwOyePCxkOEA9LNSa5k03QD/G3LWELDdAQBNhw9ObNUDChqdXykI1QD/G3LWELDVAQmDl0CILNUDBOSNKe9M0QKUsQxzrIjRAvVKWIY6FM0AxCKwcWnQxQH6MuWsJWTFAAAAAAACAMEBb07zjFF0wQIPAyqFFFjBAAAAAAAAALkD7y+7Jw0IqQHzysFBreilA/7J78rCQJ0Bb07zjFF0lQPwYc9cSsiRALNSa5h2n9z8=",
          "dtype": "f8"
         }
        }
       ],
       "layout": {
        "coloraxis": {
         "cmax": 500,
         "cmin": 0,
         "colorbar": {
          "title": {
           "text": "Average AQI"
          }
         },
         "colorscale": [
          [
           0,
           "green"
          ],
          [
           0.1,
           "yellow"
          ],
          [
           0.2,
           "orange"
          ],
          [
           0.3,
           "red"
          ],
          [
           0.4,
           "purple"
          ],
          [
           1,
           "maroon"
          ]
         ]
        },
        "geo": {
         "center": {},
         "domain": {
          "x": [
           0,
           1
          ],
          "y": [
           0,
           1
          ]
         },
         "projection": {
          "type": "natural earth"
         },
         "showcoastlines": true
        },
        "legend": {
         "tracegroupgap": 0
        },
        "template": {
         "data": {
          "bar": [
           {
            "error_x": {
             "color": "#2a3f5f"
            },
            "error_y": {
             "color": "#2a3f5f"
            },
            "marker": {
             "line": {
              "color": "#E5ECF6",
              "width": 0.5
             },
             "pattern": {
              "fillmode": "overlay",
              "size": 10,
              "solidity": 0.2
             }
            },
            "type": "bar"
           }
          ],
          "barpolar": [
           {
            "marker": {
             "line": {
              "color": "#E5ECF6",
              "width": 0.5
             },
             "pattern": {
              "fillmode": "overlay",
              "size": 10,
              "solidity": 0.2
             }
            },
            "type": "barpolar"
           }
          ],
          "carpet": [
           {
            "aaxis": {
             "endlinecolor": "#2a3f5f",
             "gridcolor": "white",
             "linecolor": "white",
             "minorgridcolor": "white",
             "startlinecolor": "#2a3f5f"
            },
            "baxis": {
             "endlinecolor": "#2a3f5f",
             "gridcolor": "white",
             "linecolor": "white",
             "minorgridcolor": "white",
             "startlinecolor": "#2a3f5f"
            },
            "type": "carpet"
           }
          ],
          "choropleth": [
           {
            "colorbar": {
             "outlinewidth": 0,
             "ticks": ""
            },
            "type": "choropleth"
           }
          ],
          "contour": [
           {
            "colorbar": {
             "outlinewidth": 0,
             "ticks": ""
            },
            "colorscale": [
             [
              0,
              "#0d0887"
             ],
             [
              0.1111111111111111,
              "#46039f"
             ],
             [
              0.2222222222222222,
              "#7201a8"
             ],
             [
              0.3333333333333333,
              "#9c179e"
             ],
             [
              0.4444444444444444,
              "#bd3786"
             ],
             [
              0.5555555555555556,
              "#d8576b"
             ],
             [
              0.6666666666666666,
              "#ed7953"
             ],
             [
              0.7777777777777778,
              "#fb9f3a"
             ],
             [
              0.8888888888888888,
              "#fdca26"
             ],
             [
              1,
              "#f0f921"
             ]
            ],
            "type": "contour"
           }
          ],
          "contourcarpet": [
           {
            "colorbar": {
             "outlinewidth": 0,
             "ticks": ""
            },
            "type": "contourcarpet"
           }
          ],
          "heatmap": [
           {
            "colorbar": {
             "outlinewidth": 0,
             "ticks": ""
            },
            "colorscale": [
             [
              0,
              "#0d0887"
             ],
             [
              0.1111111111111111,
              "#46039f"
             ],
             [
              0.2222222222222222,
              "#7201a8"
             ],
             [
              0.3333333333333333,
              "#9c179e"
             ],
             [
              0.4444444444444444,
              "#bd3786"
             ],
             [
              0.5555555555555556,
              "#d8576b"
             ],
             [
              0.6666666666666666,
              "#ed7953"
             ],
             [
              0.7777777777777778,
              "#fb9f3a"
             ],
             [
              0.8888888888888888,
              "#fdca26"
             ],
             [
              1,
              "#f0f921"
             ]
            ],
            "type": "heatmap"
           }
          ],
          "histogram": [
           {
            "marker": {
             "pattern": {
              "fillmode": "overlay",
              "size": 10,
              "solidity": 0.2
             }
            },
            "type": "histogram"
           }
          ],
          "histogram2d": [
           {
            "colorbar": {
             "outlinewidth": 0,
             "ticks": ""
            },
            "colorscale": [
             [
              0,
              "#0d0887"
             ],
             [
              0.1111111111111111,
              "#46039f"
             ],
             [
              0.2222222222222222,
              "#7201a8"
             ],
             [
              0.3333333333333333,
              "#9c179e"
             ],
             [
              0.4444444444444444,
              "#bd3786"
             ],
             [
              0.5555555555555556,
              "#d8576b"
             ],
             [
              0.6666666666666666,
              "#ed7953"
             ],
             [
              0.7777777777777778,
              "#fb9f3a"
             ],
             [
              0.8888888888888888,
              "#fdca26"
             ],
             [
              1,
              "#f0f921"
             ]
            ],
            "type": "histogram2d"
           }
          ],
          "histogram2dcontour": [
           {
            "colorbar": {
             "outlinewidth": 0,
             "ticks": ""
            },
            "colorscale": [
             [
              0,
              "#0d0887"
             ],
             [
              0.1111111111111111,
              "#46039f"
             ],
             [
              0.2222222222222222,
              "#7201a8"
             ],
             [
              0.3333333333333333,
              "#9c179e"
             ],
             [
              0.4444444444444444,
              "#bd3786"
             ],
             [
              0.5555555555555556,
              "#d8576b"
             ],
             [
              0.6666666666666666,
              "#ed7953"
             ],
             [
              0.7777777777777778,
              "#fb9f3a"
             ],
             [
              0.8888888888888888,
              "#fdca26"
             ],
             [
              1,
              "#f0f921"
             ]
            ],
            "type": "histogram2dcontour"
           }
          ],
          "mesh3d": [
           {
            "colorbar": {
             "outlinewidth": 0,
             "ticks": ""
            },
            "type": "mesh3d"
           }
          ],
          "parcoords": [
           {
            "line": {
             "colorbar": {
              "outlinewidth": 0,
              "ticks": ""
             }
            },
            "type": "parcoords"
           }
          ],
          "pie": [
           {
            "automargin": true,
            "type": "pie"
           }
          ],
          "scatter": [
           {
            "fillpattern": {
             "fillmode": "overlay",
             "size": 10,
             "solidity": 0.2
            },
            "type": "scatter"
           }
          ],
          "scatter3d": [
           {
            "line": {
             "colorbar": {
              "outlinewidth": 0,
              "ticks": ""
             }
            },
            "marker": {
             "colorbar": {
              "outlinewidth": 0,
              "ticks": ""
             }
            },
            "type": "scatter3d"
           }
          ],
          "scattercarpet": [
           {
            "marker": {
             "colorbar": {
              "outlinewidth": 0,
              "ticks": ""
             }
            },
            "type": "scattercarpet"
           }
          ],
          "scattergeo": [
           {
            "marker": {
             "colorbar": {
              "outlinewidth": 0,
              "ticks": ""
             }
            },
            "type": "scattergeo"
           }
          ],
          "scattergl": [
           {
            "marker": {
             "colorbar": {
              "outlinewidth": 0,
              "ticks": ""
             }
            },
            "type": "scattergl"
           }
          ],
          "scattermap": [
           {
            "marker": {
             "colorbar": {
              "outlinewidth": 0,
              "ticks": ""
             }
            },
            "type": "scattermap"
           }
          ],
          "scattermapbox": [
           {
            "marker": {
             "colorbar": {
              "outlinewidth": 0,
              "ticks": ""
             }
            },
            "type": "scattermapbox"
           }
          ],
          "scatterpolar": [
           {
            "marker": {
             "colorbar": {
              "outlinewidth": 0,
              "ticks": ""
             }
            },
            "type": "scatterpolar"
           }
          ],
          "scatterpolargl": [
           {
            "marker": {
             "colorbar": {
              "outlinewidth": 0,
              "ticks": ""
             }
            },
            "type": "scatterpolargl"
           }
          ],
          "scatterternary": [
           {
            "marker": {
             "colorbar": {
              "outlinewidth": 0,
              "ticks": ""
             }
            },
            "type": "scatterternary"
           }
          ],
          "surface": [
           {
            "colorbar": {
             "outlinewidth": 0,
             "ticks": ""
            },
            "colorscale": [
             [
              0,
              "#0d0887"
             ],
             [
              0.1111111111111111,
              "#46039f"
             ],
             [
              0.2222222222222222,
              "#7201a8"
             ],
             [
              0.3333333333333333,
              "#9c179e"
             ],
             [
              0.4444444444444444,
              "#bd3786"
             ],
             [
              0.5555555555555556,
              "#d8576b"
             ],
             [
              0.6666666666666666,
              "#ed7953"
             ],
             [
              0.7777777777777778,
              "#fb9f3a"
             ],
             [
              0.8888888888888888,
              "#fdca26"
             ],
             [
              1,
              "#f0f921"
             ]
            ],
            "type": "surface"
           }
          ],
          "table": [
           {
            "cells": {
             "fill": {
              "color": "#EBF0F8"
             },
             "line": {
              "color": "white"
             }
            },
            "header": {
             "fill": {
              "color": "#C8D4E3"
             },
             "line": {
              "color": "white"
             }
            },
            "type": "table"
           }
          ]
         },
         "layout": {
          "annotationdefaults": {
           "arrowcolor": "#2a3f5f",
           "arrowhead": 0,
           "arrowwidth": 1
          },
          "autotypenumbers": "strict",
          "coloraxis": {
           "colorbar": {
            "outlinewidth": 0,
            "ticks": ""
           }
          },
          "colorscale": {
           "diverging": [
            [
             0,
             "#8e0152"
            ],
            [
             0.1,
             "#c51b7d"
            ],
            [
             0.2,
             "#de77ae"
            ],
            [
             0.3,
             "#f1b6da"
            ],
            [
             0.4,
             "#fde0ef"
            ],
            [
             0.5,
             "#f7f7f7"
            ],
            [
             0.6,
             "#e6f5d0"
            ],
            [
             0.7,
             "#b8e186"
            ],
            [
             0.8,
             "#7fbc41"
            ],
            [
             0.9,
             "#4d9221"
            ],
            [
             1,
             "#276419"
            ]
           ],
           "sequential": [
            [
             0,
             "#0d0887"
            ],
            [
             0.1111111111111111,
             "#46039f"
            ],
            [
             0.2222222222222222,
             "#7201a8"
            ],
            [
             0.3333333333333333,
             "#9c179e"
            ],
            [
             0.4444444444444444,
             "#bd3786"
            ],
            [
             0.5555555555555556,
             "#d8576b"
            ],
            [
             0.6666666666666666,
             "#ed7953"
            ],
            [
             0.7777777777777778,
             "#fb9f3a"
            ],
            [
             0.8888888888888888,
             "#fdca26"
            ],
            [
             1,
             "#f0f921"
            ]
           ],
           "sequentialminus": [
            [
             0,
             "#0d0887"
            ],
            [
             0.1111111111111111,
             "#46039f"
            ],
            [
             0.2222222222222222,
             "#7201a8"
            ],
            [
             0.3333333333333333,
             "#9c179e"
            ],
            [
             0.4444444444444444,
             "#bd3786"
            ],
            [
             0.5555555555555556,
             "#d8576b"
            ],
            [
             0.6666666666666666,
             "#ed7953"
            ],
            [
             0.7777777777777778,
             "#fb9f3a"
            ],
            [
             0.8888888888888888,
             "#fdca26"
            ],
            [
             1,
             "#f0f921"
            ]
           ]
          },
          "colorway": [
           "#636efa",
           "#EF553B",
           "#00cc96",
           "#ab63fa",
           "#FFA15A",
           "#19d3f3",
           "#FF6692",
           "#B6E880",
           "#FF97FF",
           "#FECB52"
          ],
          "font": {
           "color": "#2a3f5f"
          },
          "geo": {
           "bgcolor": "white",
           "lakecolor": "white",
           "landcolor": "#E5ECF6",
           "showlakes": true,
           "showland": true,
           "subunitcolor": "white"
          },
          "hoverlabel": {
           "align": "left"
          },
          "hovermode": "closest",
          "mapbox": {
           "style": "light"
          },
          "paper_bgcolor": "white",
          "plot_bgcolor": "#E5ECF6",
          "polar": {
           "angularaxis": {
            "gridcolor": "white",
            "linecolor": "white",
            "ticks": ""
           },
           "bgcolor": "#E5ECF6",
           "radialaxis": {
            "gridcolor": "white",
            "linecolor": "white",
            "ticks": ""
           }
          },
          "scene": {
           "xaxis": {
            "backgroundcolor": "#E5ECF6",
            "gridcolor": "white",
            "gridwidth": 2,
            "linecolor": "white",
            "showbackground": true,
            "ticks": "",
            "zerolinecolor": "white"
           },
           "yaxis": {
            "backgroundcolor": "#E5ECF6",
            "gridcolor": "white",
            "gridwidth": 2,
            "linecolor": "white",
            "showbackground": true,
            "ticks": "",
            "zerolinecolor": "white"
           },
           "zaxis": {
            "backgroundcolor": "#E5ECF6",
            "gridcolor": "white",
            "gridwidth": 2,
            "linecolor": "white",
            "showbackground": true,
            "ticks": "",
            "zerolinecolor": "white"
           }
          },
          "shapedefaults": {
           "line": {
            "color": "#2a3f5f"
           }
          },
          "ternary": {
           "aaxis": {
            "gridcolor": "white",
            "linecolor": "white",
            "ticks": ""
           },
           "baxis": {
            "gridcolor": "white",
            "linecolor": "white",
            "ticks": ""
           },
           "bgcolor": "#E5ECF6",
           "caxis": {
            "gridcolor": "white",
            "linecolor": "white",
            "ticks": ""
           }
          },
          "title": {
           "x": 0.05
          },
          "xaxis": {
           "automargin": true,
           "gridcolor": "white",
           "linecolor": "white",
           "ticks": "",
           "title": {
            "standoff": 15
           },
           "zerolinecolor": "white",
           "zerolinewidth": 2
          },
          "yaxis": {
           "automargin": true,
           "gridcolor": "white",
           "linecolor": "white",
           "ticks": "",
           "title": {
            "standoff": 15
           },
           "zerolinecolor": "white",
           "zerolinewidth": 2
          }
         }
        },
        "title": {
         "text": "Global Air Quality Index (AQI) Map"
        }
       }
      },
      "image/png": "[encoded data removed]"
     },
     "metadata": {},
     "output_type": "display_data"
    }
   ],
   "source": [
    "import plotly.express as px\n",
    "\n",
    "# Sample: df_avg must have \"country\" and \"avg_aqi\"\n",
    "fig = px.choropleth(\n",
    "    df_avg,\n",
    "    locations=\"country\",\n",
    "    locationmode=\"country names\",\n",
    "    color=\"avg_aqi\",\n",
    "    color_continuous_scale=[\n",
    "        (0.00, \"green\"),      # Good\n",
    "        (0.10, \"yellow\"),     # Moderate\n",
    "        (0.20, \"orange\"),     # Unhealthy for sensitive groups\n",
    "        (0.30, \"red\"),        # Unhealthy\n",
    "        (0.40, \"purple\"),     # Very unhealthy\n",
    "        (1.00, \"maroon\")      # Hazardous\n",
    "    ],\n",
    "    range_color=(0, 500),\n",
    "    labels={'avg_aqi': 'Average AQI'},\n",
    "    title=\"Global Air Quality Index (AQI) Map\"\n",
    ")\n",
    "\n",
    "fig.update_geos(showcoastlines=True, projection_type=\"natural earth\")\n",
    "fig.show()\n"
   ]
  },
  {
   "cell_type": "code",
   "execution_count": 28,
   "id": "02224888-f3a0-4f13-87b4-e3180ffc863d",
   "metadata": {},
   "outputs": [
    {
     "data": {
      "application/vnd.plotly.v1+json": {
       "config": {
        "plotlyServerURL": "https://plot.ly"
       },
       "data": [
        {
         "coloraxis": "coloraxis",
         "geo": "geo",
         "hovertemplate": "Country=%{location}<br>Average AQI=%{z}<extra></extra>",
         "locationmode": "country names",
         "locations": [
          "Albania",
          "Algeria",
          "Andorra",
          "Angola",
          "Argentina",
          "Armenia",
          "Australia",
          "Austria",
          "Azerbaijan",
          "Bahrain",
          "Bangladesh",
          "Belarus",
          "Belgium",
          "Belize",
          "Bermuda",
          "Bosnia and Herzegovina",
          "Brazil",
          "Brunei",
          "Bulgaria",
          "Burkina Faso",
          "Cambodia",
          "Canada",
          "Cape Verde",
          "Central African Republic",
          "Chad",
          "Chile",
          "China",
          "Colombia",
          "Costa Rica",
          "Croatia",
          "Cyprus",
          "Czech Republic",
          "Denmark",
          "Dominican Republic",
          "Ecuador",
          "Egypt",
          "El Salvador",
          "Estonia",
          "Ethiopia",
          "Finland",
          "France",
          "French Guiana",
          "Gabon",
          "Georgia",
          "Germany",
          "Ghana",
          "Gibraltar",
          "Greece",
          "Grenada",
          "Guadeloupe",
          "Guam",
          "Guatemala",
          "Honduras",
          "Hong Kong",
          "Hungary",
          "Iceland",
          "India",
          "Indonesia",
          "Iran",
          "Iraq",
          "Ireland",
          "Israel",
          "Italy",
          "Ivory Coast",
          "Japan",
          "Jersey",
          "Jordan",
          "Kazakhstan",
          "Kenya",
          "Kosovo",
          "Kuwait",
          "Kyrgyzstan",
          "Laos",
          "Latvia",
          "Lebanon",
          "Liberia",
          "Liechtenstein",
          "Lithuania",
          "Luxembourg",
          "Macao",
          "Macedonia",
          "Madagascar",
          "Malaysia",
          "Malta",
          "Martinique",
          "Mexico",
          "Moldova",
          "Monaco",
          "Mongolia",
          "Montenegro",
          "Myanmar",
          "Nepal",
          "Netherlands",
          "New Caledonia",
          "New Zealand",
          "Nigeria",
          "Norway",
          "Pakistan",
          "Palestinian Territory",
          "Peru",
          "Philippines",
          "Poland",
          "Portugal",
          "Puerto Rico",
          "Qatar",
          "Reunion",
          "Romania",
          "Russia",
          "San Marino",
          "Saudi Arabia",
          "Senegal",
          "Serbia",
          "Singapore",
          "Slovakia",
          "Slovenia",
          "South Africa",
          "South Korea",
          "Spain",
          "Sri Lanka",
          "Sudan",
          "Sweden",
          "Switzerland",
          "Taiwan",
          "Tajikistan",
          "Thailand",
          "Togo",
          "Trinidad and Tobago",
          "Turkey",
          "Turkmenistan",
          "Uganda",
          "Ukraine",
          "United Arab Emirates",
          "United Kingdom of Great Britain and Northern Ireland",
          "United States of America",
          "Uzbekistan",
          "Vatican",
          "Venezuela",
          "Vietnam",
          "Zambia"
         ],
         "name": "",
         "type": "choropleth",
         "z": {
          "bdata": "AAAAAABAOUDbtm3btu1PQEmSJEmSJCVAAAAAAACARkAlSZIkSRIzQJIkSZIkKVdASZIkSZJkR0CSJEmSJClQQEmSJEmSpElAq6qqqqoKWEBu27Zt28ZwQAAAAAAAQEJAAAAAAAAAU0AAAAAAAIBGQAAAAAAAAPA/27Zt27btV0C3bdu2bVtKQJIkSZIkSSlAAAAAAABgVEAAAAAAAHhgQNmJndiJnVpAbtu2bdsWUEDbtm3btq1NQAAAAAAAUHBAAAAAAADQZUBJkiRJkmRMQAAAAAAAIGtAAAAAAAAAUUAAAAAAAIA1QLdt27ZtG1RAJUmSJEnSSEBJkiRJkkRaQJIkSZIkyTRAAAAAAACAO0CSJEmSJMlHQNu2bdu2rWFAAAAAAAAASkCSJEmSJEk8QAAAAAAAAFJASZIkSZKkOUAlSZIkSbJZQNu2bdu2LUBAAAAAAACAWUAlSZIkSRJSQCVJkiRJ0l1AAAAAAABgVkCKndiJndg6QNu2bdu2rVFAAAAAAAAANkBJkiRJkqQ8QAAAAAAAAPA/AAAAAABASUAAAAAAAABAQCVJkiRJklRAJ3ZiJ3YiXUCSJEmSJEk8QAAAAAAAOHJAkiRJkiRJV0AAAAAAAIBiQGIndmInNmNAJUmSJEnSRkDbtm3bts1TQG7btm3bVl1ASZIkSZKkVUAAAAAAACBVQEmSJEmSpDZAkiRJkiRJOkCSJEmSJKlaQJIkSZIkSVBAT+zETuyEUUCSJEmSJMlTQG7btm3btkhASZIkSZKkXUAlSZIkSZIqQAAAAAAA4FBAT+zETuyEXEAAAAAAAIA1QCVJkiRJEjNAt23btm3bQUAAAAAAACBYQJIkSZIkSV9ASZIkSZLkTECSJEmSJMlOQJIkSZIkyT1AAAAAAABAQ0Bu27Zt21ZcQAAAAAAAAD5A27Zt27atQ0Bu27Zt27ZbQJIkSZIkyVBASZIkSZKkX0AAAAAAAGBhQLdt27Zt+1VAt23btm3bLUBu27Zt27Y2QAAAAAAAAF5ASZIkSZIkQUCSJEmSJEliQG7btm3bVlRASZIkSZJkUEBJkiRJkoRQQLdt27Zt215AkiRJkiTJQEAAAAAAAAA1QAAAAAAA4GZAJUmSJEmSLUAlSZIkSZJcQNu2bdu2zVNASZIkSZIkSkBVVVVVVRVZQAAAAAAAgEBASZIkSZJkZEBJkiRJkmRJQG7btm3bFlhAt23btm2bUUAAAAAAAIBLQG7btm3bllpAkiRJkiSJV0CSJEmSJOlbQAAAAAAAwFpASZIkSZIkPkBJkiRJkuRLQNu2bdu2jVRAbtu2bdvGYEAlSZIkSZJjQGIndmInNltAbtu2bdv2REBJkiRJkoRkQG7btm3bNlJAJUmSJElCakBJkiRJkgRRQNu2bdu2LVNAt23btm27U0Bu27Zt2/ZbQG7btm3bdlVASZIkSZKkT0Crqqqqqio1QEmSJEmSZFdAAAAAAACATUA=",
          "dtype": "f8"
         }
        }
       ],
       "layout": {
        "coloraxis": {
         "cmax": 500,
         "cmin": 0,
         "colorbar": {
          "title": {
           "text": "Average AQI"
          }
         },
         "colorscale": [
          [
           0,
           "green"
          ],
          [
           0.1,
           "yellow"
          ],
          [
           0.2,
           "orange"
          ],
          [
           0.3,
           "red"
          ],
          [
           0.4,
           "purple"
          ],
          [
           1,
           "maroon"
          ]
         ]
        },
        "geo": {
         "center": {},
         "domain": {
          "x": [
           0,
           1
          ],
          "y": [
           0,
           1
          ]
         },
         "projection": {
          "type": "natural earth"
         },
         "showcoastlines": true
        },
        "legend": {
         "tracegroupgap": 0
        },
        "template": {
         "data": {
          "bar": [
           {
            "error_x": {
             "color": "#2a3f5f"
            },
            "error_y": {
             "color": "#2a3f5f"
            },
            "marker": {
             "line": {
              "color": "#E5ECF6",
              "width": 0.5
             },
             "pattern": {
              "fillmode": "overlay",
              "size": 10,
              "solidity": 0.2
             }
            },
            "type": "bar"
           }
          ],
          "barpolar": [
           {
            "marker": {
             "line": {
              "color": "#E5ECF6",
              "width": 0.5
             },
             "pattern": {
              "fillmode": "overlay",
              "size": 10,
              "solidity": 0.2
             }
            },
            "type": "barpolar"
           }
          ],
          "carpet": [
           {
            "aaxis": {
             "endlinecolor": "#2a3f5f",
             "gridcolor": "white",
             "linecolor": "white",
             "minorgridcolor": "white",
             "startlinecolor": "#2a3f5f"
            },
            "baxis": {
             "endlinecolor": "#2a3f5f",
             "gridcolor": "white",
             "linecolor": "white",
             "minorgridcolor": "white",
             "startlinecolor": "#2a3f5f"
            },
            "type": "carpet"
           }
          ],
          "choropleth": [
           {
            "colorbar": {
             "outlinewidth": 0,
             "ticks": ""
            },
            "type": "choropleth"
           }
          ],
          "contour": [
           {
            "colorbar": {
             "outlinewidth": 0,
             "ticks": ""
            },
            "colorscale": [
             [
              0,
              "#0d0887"
             ],
             [
              0.1111111111111111,
              "#46039f"
             ],
             [
              0.2222222222222222,
              "#7201a8"
             ],
             [
              0.3333333333333333,
              "#9c179e"
             ],
             [
              0.4444444444444444,
              "#bd3786"
             ],
             [
              0.5555555555555556,
              "#d8576b"
             ],
             [
              0.6666666666666666,
              "#ed7953"
             ],
             [
              0.7777777777777778,
              "#fb9f3a"
             ],
             [
              0.8888888888888888,
              "#fdca26"
             ],
             [
              1,
              "#f0f921"
             ]
            ],
            "type": "contour"
           }
          ],
          "contourcarpet": [
           {
            "colorbar": {
             "outlinewidth": 0,
             "ticks": ""
            },
            "type": "contourcarpet"
           }
          ],
          "heatmap": [
           {
            "colorbar": {
             "outlinewidth": 0,
             "ticks": ""
            },
            "colorscale": [
             [
              0,
              "#0d0887"
             ],
             [
              0.1111111111111111,
              "#46039f"
             ],
             [
              0.2222222222222222,
              "#7201a8"
             ],
             [
              0.3333333333333333,
              "#9c179e"
             ],
             [
              0.4444444444444444,
              "#bd3786"
             ],
             [
              0.5555555555555556,
              "#d8576b"
             ],
             [
              0.6666666666666666,
              "#ed7953"
             ],
             [
              0.7777777777777778,
              "#fb9f3a"
             ],
             [
              0.8888888888888888,
              "#fdca26"
             ],
             [
              1,
              "#f0f921"
             ]
            ],
            "type": "heatmap"
           }
          ],
          "histogram": [
           {
            "marker": {
             "pattern": {
              "fillmode": "overlay",
              "size": 10,
              "solidity": 0.2
             }
            },
            "type": "histogram"
           }
          ],
          "histogram2d": [
           {
            "colorbar": {
             "outlinewidth": 0,
             "ticks": ""
            },
            "colorscale": [
             [
              0,
              "#0d0887"
             ],
             [
              0.1111111111111111,
              "#46039f"
             ],
             [
              0.2222222222222222,
              "#7201a8"
             ],
             [
              0.3333333333333333,
              "#9c179e"
             ],
             [
              0.4444444444444444,
              "#bd3786"
             ],
             [
              0.5555555555555556,
              "#d8576b"
             ],
             [
              0.6666666666666666,
              "#ed7953"
             ],
             [
              0.7777777777777778,
              "#fb9f3a"
             ],
             [
              0.8888888888888888,
              "#fdca26"
             ],
             [
              1,
              "#f0f921"
             ]
            ],
            "type": "histogram2d"
           }
          ],
          "histogram2dcontour": [
           {
            "colorbar": {
             "outlinewidth": 0,
             "ticks": ""
            },
            "colorscale": [
             [
              0,
              "#0d0887"
             ],
             [
              0.1111111111111111,
              "#46039f"
             ],
             [
              0.2222222222222222,
              "#7201a8"
             ],
             [
              0.3333333333333333,
              "#9c179e"
             ],
             [
              0.4444444444444444,
              "#bd3786"
             ],
             [
              0.5555555555555556,
              "#d8576b"
             ],
             [
              0.6666666666666666,
              "#ed7953"
             ],
             [
              0.7777777777777778,
              "#fb9f3a"
             ],
             [
              0.8888888888888888,
              "#fdca26"
             ],
             [
              1,
              "#f0f921"
             ]
            ],
            "type": "histogram2dcontour"
           }
          ],
          "mesh3d": [
           {
            "colorbar": {
             "outlinewidth": 0,
             "ticks": ""
            },
            "type": "mesh3d"
           }
          ],
          "parcoords": [
           {
            "line": {
             "colorbar": {
              "outlinewidth": 0,
              "ticks": ""
             }
            },
            "type": "parcoords"
           }
          ],
          "pie": [
           {
            "automargin": true,
            "type": "pie"
           }
          ],
          "scatter": [
           {
            "fillpattern": {
             "fillmode": "overlay",
             "size": 10,
             "solidity": 0.2
            },
            "type": "scatter"
           }
          ],
          "scatter3d": [
           {
            "line": {
             "colorbar": {
              "outlinewidth": 0,
              "ticks": ""
             }
            },
            "marker": {
             "colorbar": {
              "outlinewidth": 0,
              "ticks": ""
             }
            },
            "type": "scatter3d"
           }
          ],
          "scattercarpet": [
           {
            "marker": {
             "colorbar": {
              "outlinewidth": 0,
              "ticks": ""
             }
            },
            "type": "scattercarpet"
           }
          ],
          "scattergeo": [
           {
            "marker": {
             "colorbar": {
              "outlinewidth": 0,
              "ticks": ""
             }
            },
            "type": "scattergeo"
           }
          ],
          "scattergl": [
           {
            "marker": {
             "colorbar": {
              "outlinewidth": 0,
              "ticks": ""
             }
            },
            "type": "scattergl"
           }
          ],
          "scattermap": [
           {
            "marker": {
             "colorbar": {
              "outlinewidth": 0,
              "ticks": ""
             }
            },
            "type": "scattermap"
           }
          ],
          "scattermapbox": [
           {
            "marker": {
             "colorbar": {
              "outlinewidth": 0,
              "ticks": ""
             }
            },
            "type": "scattermapbox"
           }
          ],
          "scatterpolar": [
           {
            "marker": {
             "colorbar": {
              "outlinewidth": 0,
              "ticks": ""
             }
            },
            "type": "scatterpolar"
           }
          ],
          "scatterpolargl": [
           {
            "marker": {
             "colorbar": {
              "outlinewidth": 0,
              "ticks": ""
             }
            },
            "type": "scatterpolargl"
           }
          ],
          "scatterternary": [
           {
            "marker": {
             "colorbar": {
              "outlinewidth": 0,
              "ticks": ""
             }
            },
            "type": "scatterternary"
           }
          ],
          "surface": [
           {
            "colorbar": {
             "outlinewidth": 0,
             "ticks": ""
            },
            "colorscale": [
             [
              0,
              "#0d0887"
             ],
             [
              0.1111111111111111,
              "#46039f"
             ],
             [
              0.2222222222222222,
              "#7201a8"
             ],
             [
              0.3333333333333333,
              "#9c179e"
             ],
             [
              0.4444444444444444,
              "#bd3786"
             ],
             [
              0.5555555555555556,
              "#d8576b"
             ],
             [
              0.6666666666666666,
              "#ed7953"
             ],
             [
              0.7777777777777778,
              "#fb9f3a"
             ],
             [
              0.8888888888888888,
              "#fdca26"
             ],
             [
              1,
              "#f0f921"
             ]
            ],
            "type": "surface"
           }
          ],
          "table": [
           {
            "cells": {
             "fill": {
              "color": "#EBF0F8"
             },
             "line": {
              "color": "white"
             }
            },
            "header": {
             "fill": {
              "color": "#C8D4E3"
             },
             "line": {
              "color": "white"
             }
            },
            "type": "table"
           }
          ]
         },
         "layout": {
          "annotationdefaults": {
           "arrowcolor": "#2a3f5f",
           "arrowhead": 0,
           "arrowwidth": 1
          },
          "autotypenumbers": "strict",
          "coloraxis": {
           "colorbar": {
            "outlinewidth": 0,
            "ticks": ""
           }
          },
          "colorscale": {
           "diverging": [
            [
             0,
             "#8e0152"
            ],
            [
             0.1,
             "#c51b7d"
            ],
            [
             0.2,
             "#de77ae"
            ],
            [
             0.3,
             "#f1b6da"
            ],
            [
             0.4,
             "#fde0ef"
            ],
            [
             0.5,
             "#f7f7f7"
            ],
            [
             0.6,
             "#e6f5d0"
            ],
            [
             0.7,
             "#b8e186"
            ],
            [
             0.8,
             "#7fbc41"
            ],
            [
             0.9,
             "#4d9221"
            ],
            [
             1,
             "#276419"
            ]
           ],
           "sequential": [
            [
             0,
             "#0d0887"
            ],
            [
             0.1111111111111111,
             "#46039f"
            ],
            [
             0.2222222222222222,
             "#7201a8"
            ],
            [
             0.3333333333333333,
             "#9c179e"
            ],
            [
             0.4444444444444444,
             "#bd3786"
            ],
            [
             0.5555555555555556,
             "#d8576b"
            ],
            [
             0.6666666666666666,
             "#ed7953"
            ],
            [
             0.7777777777777778,
             "#fb9f3a"
            ],
            [
             0.8888888888888888,
             "#fdca26"
            ],
            [
             1,
             "#f0f921"
            ]
           ],
           "sequentialminus": [
            [
             0,
             "#0d0887"
            ],
            [
             0.1111111111111111,
             "#46039f"
            ],
            [
             0.2222222222222222,
             "#7201a8"
            ],
            [
             0.3333333333333333,
             "#9c179e"
            ],
            [
             0.4444444444444444,
             "#bd3786"
            ],
            [
             0.5555555555555556,
             "#d8576b"
            ],
            [
             0.6666666666666666,
             "#ed7953"
            ],
            [
             0.7777777777777778,
             "#fb9f3a"
            ],
            [
             0.8888888888888888,
             "#fdca26"
            ],
            [
             1,
             "#f0f921"
            ]
           ]
          },
          "colorway": [
           "#636efa",
           "#EF553B",
           "#00cc96",
           "#ab63fa",
           "#FFA15A",
           "#19d3f3",
           "#FF6692",
           "#B6E880",
           "#FF97FF",
           "#FECB52"
          ],
          "font": {
           "color": "#2a3f5f"
          },
          "geo": {
           "bgcolor": "white",
           "lakecolor": "white",
           "landcolor": "#E5ECF6",
           "showlakes": true,
           "showland": true,
           "subunitcolor": "white"
          },
          "hoverlabel": {
           "align": "left"
          },
          "hovermode": "closest",
          "mapbox": {
           "style": "light"
          },
          "paper_bgcolor": "white",
          "plot_bgcolor": "#E5ECF6",
          "polar": {
           "angularaxis": {
            "gridcolor": "white",
            "linecolor": "white",
            "ticks": ""
           },
           "bgcolor": "#E5ECF6",
           "radialaxis": {
            "gridcolor": "white",
            "linecolor": "white",
            "ticks": ""
           }
          },
          "scene": {
           "xaxis": {
            "backgroundcolor": "#E5ECF6",
            "gridcolor": "white",
            "gridwidth": 2,
            "linecolor": "white",
            "showbackground": true,
            "ticks": "",
            "zerolinecolor": "white"
           },
           "yaxis": {
            "backgroundcolor": "#E5ECF6",
            "gridcolor": "white",
            "gridwidth": 2,
            "linecolor": "white",
            "showbackground": true,
            "ticks": "",
            "zerolinecolor": "white"
           },
           "zaxis": {
            "backgroundcolor": "#E5ECF6",
            "gridcolor": "white",
            "gridwidth": 2,
            "linecolor": "white",
            "showbackground": true,
            "ticks": "",
            "zerolinecolor": "white"
           }
          },
          "shapedefaults": {
           "line": {
            "color": "#2a3f5f"
           }
          },
          "ternary": {
           "aaxis": {
            "gridcolor": "white",
            "linecolor": "white",
            "ticks": ""
           },
           "baxis": {
            "gridcolor": "white",
            "linecolor": "white",
            "ticks": ""
           },
           "bgcolor": "#E5ECF6",
           "caxis": {
            "gridcolor": "white",
            "linecolor": "white",
            "ticks": ""
           }
          },
          "title": {
           "x": 0.05
          },
          "xaxis": {
           "automargin": true,
           "gridcolor": "white",
           "linecolor": "white",
           "ticks": "",
           "title": {
            "standoff": 15
           },
           "zerolinecolor": "white",
           "zerolinewidth": 2
          },
          "yaxis": {
           "automargin": true,
           "gridcolor": "white",
           "linecolor": "white",
           "ticks": "",
           "title": {
            "standoff": 15
           },
           "zerolinecolor": "white",
           "zerolinewidth": 2
          }
         }
        },
        "title": {
         "text": "Global AQI Map - Winter"
        }
       }
      },
      "image/png": "[encoded data removed]"
     },
     "metadata": {},
     "output_type": "display_data"
    },
    {
     "data": {
      "application/vnd.plotly.v1+json": {
       "config": {
        "plotlyServerURL": "https://plot.ly"
       },
       "data": [
        {
         "coloraxis": "coloraxis",
         "geo": "geo",
         "hovertemplate": "Country=%{location}<br>Average AQI=%{z}<extra></extra>",
         "locationmode": "country names",
         "locations": [
          "Albania",
          "Algeria",
          "Andorra",
          "Angola",
          "Argentina",
          "Armenia",
          "Australia",
          "Austria",
          "Azerbaijan",
          "Bahrain",
          "Bangladesh",
          "Belarus",
          "Belgium",
          "Belize",
          "Bermuda",
          "Bolivia",
          "Bosnia and Herzegovina",
          "Brazil",
          "Brunei",
          "Bulgaria",
          "Burkina Faso",
          "Cambodia",
          "Canada",
          "Cape Verde",
          "Cayman Islands",
          "Central African Republic",
          "Chad",
          "Chile",
          "China",
          "Colombia",
          "Costa Rica",
          "Croatia",
          "Cyprus",
          "Czech Republic",
          "Denmark",
          "Dominican Republic",
          "Ecuador",
          "Egypt",
          "El Salvador",
          "Estonia",
          "Ethiopia",
          "Finland",
          "France",
          "French Guiana",
          "Gabon",
          "Georgia",
          "Germany",
          "Ghana",
          "Gibraltar",
          "Greece",
          "Grenada",
          "Guadeloupe",
          "Guam",
          "Guatemala",
          "Honduras",
          "Hong Kong",
          "Hungary",
          "Iceland",
          "India",
          "Indonesia",
          "Iran",
          "Iraq",
          "Ireland",
          "Israel",
          "Italy",
          "Ivory Coast",
          "Japan",
          "Jersey",
          "Jordan",
          "Kazakhstan",
          "Kenya",
          "Kosovo",
          "Kuwait",
          "Kyrgyzstan",
          "Laos",
          "Latvia",
          "Lebanon",
          "Liberia",
          "Liechtenstein",
          "Lithuania",
          "Luxembourg",
          "Macao",
          "Macedonia",
          "Madagascar",
          "Malaysia",
          "Malta",
          "Martinique",
          "Mexico",
          "Moldova",
          "Monaco",
          "Mongolia",
          "Montenegro",
          "Myanmar",
          "Nepal",
          "Netherlands",
          "New Caledonia",
          "New Zealand",
          "Nigeria",
          "Norway",
          "Pakistan",
          "Palestinian Territory",
          "Peru",
          "Philippines",
          "Poland",
          "Portugal",
          "Puerto Rico",
          "Qatar",
          "Reunion",
          "Romania",
          "Russia",
          "San Marino",
          "Saudi Arabia",
          "Senegal",
          "Serbia",
          "Singapore",
          "Slovakia",
          "Slovenia",
          "South Africa",
          "South Korea",
          "Spain",
          "Sri Lanka",
          "Sudan",
          "Sweden",
          "Switzerland",
          "Taiwan",
          "Tajikistan",
          "Thailand",
          "Togo",
          "Trinidad and Tobago",
          "Turkey",
          "Turkmenistan",
          "Uganda",
          "Ukraine",
          "United Arab Emirates",
          "United Kingdom of Great Britain and Northern Ireland",
          "United States of America",
          "Uzbekistan",
          "Vatican",
          "Venezuela",
          "Vietnam",
          "Zambia"
         ],
         "name": "",
         "type": "choropleth",
         "z": {
          "bdata": "0UUXXXTRNUDHcRzHcRxHQLrooosuOjRAHMdxHMfxVUCjiy666CI6QLrooosuOkJAo4suuujiRkB00UUXXfRGQGZmZmZmxkJAVVVVVVUVVkB2Yid2YidgQHTRRRdddERAo4suuuiiUECrqqqqqqpBQKuqqqqqqjBAAAAAAAAAJkC66KKLLvpIQLrooosu2lBA6aKLLrroKEAvuuiii+5AQAAAAAAAQHFASZIkSZJEWEBddNFFF91MQLrooosu+kNAOY7jOI7jOUBVVVVVVVVYQDMzMzMzY3BA0UUXXXRBYEB00UUXXVRwQBdddNFFN1FAXXTRRRddP0AXXXTRRVdHQEYXXXTRhUhAXXTRRRcdVUCMLrroogs2QAAAAAAAAD9AL7roootuSUAAAAAAAFhFQHIcx3Ecx1lAdNFFF110O0AzMzMzM3NgQOmiiy66KENAuuiiiy5aUkDpoosuuug5QKuqqqqqqlJAF1100UXXSUBGF1100UVUQEYXXXTRRU9A0UUXXXRRPkCMLrroootIQFVVVVVVVTBAL7rooosuNkAAAAAAAIAWQM/zPM/zfFpA5DiO4zhOYkDpoosuumhOQMVO7MROrFFAo4suuuiiOEAvuuiii/5wQBdddNFFV1lARhdddNEVYEAcx3EcxzFhQLrooosuOkVAjC666KLLVEBGF1100cVOQM3MzMzMjExA0UUXXXTRVUAAAAAAAEBHQKOLLrroIjpAo4suuuhiUkCMLrroootLQF100UUXHUNAERERERFRVkBVVVVVVfVMQC+66KKLDl1ARhdddNHFMEByHMdxHMdUQIiHh4eHB0tAMQzDMAzDNEAvuuiiiy44QEYXXXTRxUFAXXTRRRedUECjiy666IJQQDMzMzMzU1JAAAAAAADAUECMLrroostCQF100UUXXUJAF1100UVXYEAAAAAAAIAzQLrooosuujpAXXTRRRfdT0AAAAAAAMBDQLrooosuWmFA6aKLLrrYYEDRRRdddNFOQC+66KKLrjJARhdddNHFOUCO4ziO4/hRQIwuuuiiy0BAdNFFF100WUCMLrroostTQHTRRRdddE1AdNFFF110TEAXXXTRRTdXQIwuuuiiCz1AchzHcRzHK0AAAAAAALBSQOmiiy666CpAo4suuuiCUUBddNFFF51TQIwuuuiiy0VAAAAAAACAUUAcx3Ecx3FZQAAAAAAAAFhAdNFFF110R0AAAAAAAEBNQKOLLrroYkdAjC666KLrVkDRRRdddDFdQIwuuuiiS1BAL7roootuUkAlSZIkSdJiQHTRRRddtERAXXTRRRcdQUAXXXTRRddSQAAAAAAAAFJAo4suuuhSZEAzMzMzM9NXQHTRRRdd9EFAXXTRRRfdWUDNzMzMzCxQQAAAAAAAoFpA6aKLLrooTkAAAAAAAABXQHTRRRdd1FNAuuiiiy5aWkAXXXTRRddAQKOLLrrookRAbtu2bds2M0B00UUXXXRXQAAAAAAAIEtA",
          "dtype": "f8"
         }
        }
       ],
       "layout": {
        "coloraxis": {
         "cmax": 500,
         "cmin": 0,
         "colorbar": {
          "title": {
           "text": "Average AQI"
          }
         },
         "colorscale": [
          [
           0,
           "green"
          ],
          [
           0.1,
           "yellow"
          ],
          [
           0.2,
           "orange"
          ],
          [
           0.3,
           "red"
          ],
          [
           0.4,
           "purple"
          ],
          [
           1,
           "maroon"
          ]
         ]
        },
        "geo": {
         "center": {},
         "domain": {
          "x": [
           0,
           1
          ],
          "y": [
           0,
           1
          ]
         },
         "projection": {
          "type": "natural earth"
         },
         "showcoastlines": true
        },
        "legend": {
         "tracegroupgap": 0
        },
        "template": {
         "data": {
          "bar": [
           {
            "error_x": {
             "color": "#2a3f5f"
            },
            "error_y": {
             "color": "#2a3f5f"
            },
            "marker": {
             "line": {
              "color": "#E5ECF6",
              "width": 0.5
             },
             "pattern": {
              "fillmode": "overlay",
              "size": 10,
              "solidity": 0.2
             }
            },
            "type": "bar"
           }
          ],
          "barpolar": [
           {
            "marker": {
             "line": {
              "color": "#E5ECF6",
              "width": 0.5
             },
             "pattern": {
              "fillmode": "overlay",
              "size": 10,
              "solidity": 0.2
             }
            },
            "type": "barpolar"
           }
          ],
          "carpet": [
           {
            "aaxis": {
             "endlinecolor": "#2a3f5f",
             "gridcolor": "white",
             "linecolor": "white",
             "minorgridcolor": "white",
             "startlinecolor": "#2a3f5f"
            },
            "baxis": {
             "endlinecolor": "#2a3f5f",
             "gridcolor": "white",
             "linecolor": "white",
             "minorgridcolor": "white",
             "startlinecolor": "#2a3f5f"
            },
            "type": "carpet"
           }
          ],
          "choropleth": [
           {
            "colorbar": {
             "outlinewidth": 0,
             "ticks": ""
            },
            "type": "choropleth"
           }
          ],
          "contour": [
           {
            "colorbar": {
             "outlinewidth": 0,
             "ticks": ""
            },
            "colorscale": [
             [
              0,
              "#0d0887"
             ],
             [
              0.1111111111111111,
              "#46039f"
             ],
             [
              0.2222222222222222,
              "#7201a8"
             ],
             [
              0.3333333333333333,
              "#9c179e"
             ],
             [
              0.4444444444444444,
              "#bd3786"
             ],
             [
              0.5555555555555556,
              "#d8576b"
             ],
             [
              0.6666666666666666,
              "#ed7953"
             ],
             [
              0.7777777777777778,
              "#fb9f3a"
             ],
             [
              0.8888888888888888,
              "#fdca26"
             ],
             [
              1,
              "#f0f921"
             ]
            ],
            "type": "contour"
           }
          ],
          "contourcarpet": [
           {
            "colorbar": {
             "outlinewidth": 0,
             "ticks": ""
            },
            "type": "contourcarpet"
           }
          ],
          "heatmap": [
           {
            "colorbar": {
             "outlinewidth": 0,
             "ticks": ""
            },
            "colorscale": [
             [
              0,
              "#0d0887"
             ],
             [
              0.1111111111111111,
              "#46039f"
             ],
             [
              0.2222222222222222,
              "#7201a8"
             ],
             [
              0.3333333333333333,
              "#9c179e"
             ],
             [
              0.4444444444444444,
              "#bd3786"
             ],
             [
              0.5555555555555556,
              "#d8576b"
             ],
             [
              0.6666666666666666,
              "#ed7953"
             ],
             [
              0.7777777777777778,
              "#fb9f3a"
             ],
             [
              0.8888888888888888,
              "#fdca26"
             ],
             [
              1,
              "#f0f921"
             ]
            ],
            "type": "heatmap"
           }
          ],
          "histogram": [
           {
            "marker": {
             "pattern": {
              "fillmode": "overlay",
              "size": 10,
              "solidity": 0.2
             }
            },
            "type": "histogram"
           }
          ],
          "histogram2d": [
           {
            "colorbar": {
             "outlinewidth": 0,
             "ticks": ""
            },
            "colorscale": [
             [
              0,
              "#0d0887"
             ],
             [
              0.1111111111111111,
              "#46039f"
             ],
             [
              0.2222222222222222,
              "#7201a8"
             ],
             [
              0.3333333333333333,
              "#9c179e"
             ],
             [
              0.4444444444444444,
              "#bd3786"
             ],
             [
              0.5555555555555556,
              "#d8576b"
             ],
             [
              0.6666666666666666,
              "#ed7953"
             ],
             [
              0.7777777777777778,
              "#fb9f3a"
             ],
             [
              0.8888888888888888,
              "#fdca26"
             ],
             [
              1,
              "#f0f921"
             ]
            ],
            "type": "histogram2d"
           }
          ],
          "histogram2dcontour": [
           {
            "colorbar": {
             "outlinewidth": 0,
             "ticks": ""
            },
            "colorscale": [
             [
              0,
              "#0d0887"
             ],
             [
              0.1111111111111111,
              "#46039f"
             ],
             [
              0.2222222222222222,
              "#7201a8"
             ],
             [
              0.3333333333333333,
              "#9c179e"
             ],
             [
              0.4444444444444444,
              "#bd3786"
             ],
             [
              0.5555555555555556,
              "#d8576b"
             ],
             [
              0.6666666666666666,
              "#ed7953"
             ],
             [
              0.7777777777777778,
              "#fb9f3a"
             ],
             [
              0.8888888888888888,
              "#fdca26"
             ],
             [
              1,
              "#f0f921"
             ]
            ],
            "type": "histogram2dcontour"
           }
          ],
          "mesh3d": [
           {
            "colorbar": {
             "outlinewidth": 0,
             "ticks": ""
            },
            "type": "mesh3d"
           }
          ],
          "parcoords": [
           {
            "line": {
             "colorbar": {
              "outlinewidth": 0,
              "ticks": ""
             }
            },
            "type": "parcoords"
           }
          ],
          "pie": [
           {
            "automargin": true,
            "type": "pie"
           }
          ],
          "scatter": [
           {
            "fillpattern": {
             "fillmode": "overlay",
             "size": 10,
             "solidity": 0.2
            },
            "type": "scatter"
           }
          ],
          "scatter3d": [
           {
            "line": {
             "colorbar": {
              "outlinewidth": 0,
              "ticks": ""
             }
            },
            "marker": {
             "colorbar": {
              "outlinewidth": 0,
              "ticks": ""
             }
            },
            "type": "scatter3d"
           }
          ],
          "scattercarpet": [
           {
            "marker": {
             "colorbar": {
              "outlinewidth": 0,
              "ticks": ""
             }
            },
            "type": "scattercarpet"
           }
          ],
          "scattergeo": [
           {
            "marker": {
             "colorbar": {
              "outlinewidth": 0,
              "ticks": ""
             }
            },
            "type": "scattergeo"
           }
          ],
          "scattergl": [
           {
            "marker": {
             "colorbar": {
              "outlinewidth": 0,
              "ticks": ""
             }
            },
            "type": "scattergl"
           }
          ],
          "scattermap": [
           {
            "marker": {
             "colorbar": {
              "outlinewidth": 0,
              "ticks": ""
             }
            },
            "type": "scattermap"
           }
          ],
          "scattermapbox": [
           {
            "marker": {
             "colorbar": {
              "outlinewidth": 0,
              "ticks": ""
             }
            },
            "type": "scattermapbox"
           }
          ],
          "scatterpolar": [
           {
            "marker": {
             "colorbar": {
              "outlinewidth": 0,
              "ticks": ""
             }
            },
            "type": "scatterpolar"
           }
          ],
          "scatterpolargl": [
           {
            "marker": {
             "colorbar": {
              "outlinewidth": 0,
              "ticks": ""
             }
            },
            "type": "scatterpolargl"
           }
          ],
          "scatterternary": [
           {
            "marker": {
             "colorbar": {
              "outlinewidth": 0,
              "ticks": ""
             }
            },
            "type": "scatterternary"
           }
          ],
          "surface": [
           {
            "colorbar": {
             "outlinewidth": 0,
             "ticks": ""
            },
            "colorscale": [
             [
              0,
              "#0d0887"
             ],
             [
              0.1111111111111111,
              "#46039f"
             ],
             [
              0.2222222222222222,
              "#7201a8"
             ],
             [
              0.3333333333333333,
              "#9c179e"
             ],
             [
              0.4444444444444444,
              "#bd3786"
             ],
             [
              0.5555555555555556,
              "#d8576b"
             ],
             [
              0.6666666666666666,
              "#ed7953"
             ],
             [
              0.7777777777777778,
              "#fb9f3a"
             ],
             [
              0.8888888888888888,
              "#fdca26"
             ],
             [
              1,
              "#f0f921"
             ]
            ],
            "type": "surface"
           }
          ],
          "table": [
           {
            "cells": {
             "fill": {
              "color": "#EBF0F8"
             },
             "line": {
              "color": "white"
             }
            },
            "header": {
             "fill": {
              "color": "#C8D4E3"
             },
             "line": {
              "color": "white"
             }
            },
            "type": "table"
           }
          ]
         },
         "layout": {
          "annotationdefaults": {
           "arrowcolor": "#2a3f5f",
           "arrowhead": 0,
           "arrowwidth": 1
          },
          "autotypenumbers": "strict",
          "coloraxis": {
           "colorbar": {
            "outlinewidth": 0,
            "ticks": ""
           }
          },
          "colorscale": {
           "diverging": [
            [
             0,
             "#8e0152"
            ],
            [
             0.1,
             "#c51b7d"
            ],
            [
             0.2,
             "#de77ae"
            ],
            [
             0.3,
             "#f1b6da"
            ],
            [
             0.4,
             "#fde0ef"
            ],
            [
             0.5,
             "#f7f7f7"
            ],
            [
             0.6,
             "#e6f5d0"
            ],
            [
             0.7,
             "#b8e186"
            ],
            [
             0.8,
             "#7fbc41"
            ],
            [
             0.9,
             "#4d9221"
            ],
            [
             1,
             "#276419"
            ]
           ],
           "sequential": [
            [
             0,
             "#0d0887"
            ],
            [
             0.1111111111111111,
             "#46039f"
            ],
            [
             0.2222222222222222,
             "#7201a8"
            ],
            [
             0.3333333333333333,
             "#9c179e"
            ],
            [
             0.4444444444444444,
             "#bd3786"
            ],
            [
             0.5555555555555556,
             "#d8576b"
            ],
            [
             0.6666666666666666,
             "#ed7953"
            ],
            [
             0.7777777777777778,
             "#fb9f3a"
            ],
            [
             0.8888888888888888,
             "#fdca26"
            ],
            [
             1,
             "#f0f921"
            ]
           ],
           "sequentialminus": [
            [
             0,
             "#0d0887"
            ],
            [
             0.1111111111111111,
             "#46039f"
            ],
            [
             0.2222222222222222,
             "#7201a8"
            ],
            [
             0.3333333333333333,
             "#9c179e"
            ],
            [
             0.4444444444444444,
             "#bd3786"
            ],
            [
             0.5555555555555556,
             "#d8576b"
            ],
            [
             0.6666666666666666,
             "#ed7953"
            ],
            [
             0.7777777777777778,
             "#fb9f3a"
            ],
            [
             0.8888888888888888,
             "#fdca26"
            ],
            [
             1,
             "#f0f921"
            ]
           ]
          },
          "colorway": [
           "#636efa",
           "#EF553B",
           "#00cc96",
           "#ab63fa",
           "#FFA15A",
           "#19d3f3",
           "#FF6692",
           "#B6E880",
           "#FF97FF",
           "#FECB52"
          ],
          "font": {
           "color": "#2a3f5f"
          },
          "geo": {
           "bgcolor": "white",
           "lakecolor": "white",
           "landcolor": "#E5ECF6",
           "showlakes": true,
           "showland": true,
           "subunitcolor": "white"
          },
          "hoverlabel": {
           "align": "left"
          },
          "hovermode": "closest",
          "mapbox": {
           "style": "light"
          },
          "paper_bgcolor": "white",
          "plot_bgcolor": "#E5ECF6",
          "polar": {
           "angularaxis": {
            "gridcolor": "white",
            "linecolor": "white",
            "ticks": ""
           },
           "bgcolor": "#E5ECF6",
           "radialaxis": {
            "gridcolor": "white",
            "linecolor": "white",
            "ticks": ""
           }
          },
          "scene": {
           "xaxis": {
            "backgroundcolor": "#E5ECF6",
            "gridcolor": "white",
            "gridwidth": 2,
            "linecolor": "white",
            "showbackground": true,
            "ticks": "",
            "zerolinecolor": "white"
           },
           "yaxis": {
            "backgroundcolor": "#E5ECF6",
            "gridcolor": "white",
            "gridwidth": 2,
            "linecolor": "white",
            "showbackground": true,
            "ticks": "",
            "zerolinecolor": "white"
           },
           "zaxis": {
            "backgroundcolor": "#E5ECF6",
            "gridcolor": "white",
            "gridwidth": 2,
            "linecolor": "white",
            "showbackground": true,
            "ticks": "",
            "zerolinecolor": "white"
           }
          },
          "shapedefaults": {
           "line": {
            "color": "#2a3f5f"
           }
          },
          "ternary": {
           "aaxis": {
            "gridcolor": "white",
            "linecolor": "white",
            "ticks": ""
           },
           "baxis": {
            "gridcolor": "white",
            "linecolor": "white",
            "ticks": ""
           },
           "bgcolor": "#E5ECF6",
           "caxis": {
            "gridcolor": "white",
            "linecolor": "white",
            "ticks": ""
           }
          },
          "title": {
           "x": 0.05
          },
          "xaxis": {
           "automargin": true,
           "gridcolor": "white",
           "linecolor": "white",
           "ticks": "",
           "title": {
            "standoff": 15
           },
           "zerolinecolor": "white",
           "zerolinewidth": 2
          },
          "yaxis": {
           "automargin": true,
           "gridcolor": "white",
           "linecolor": "white",
           "ticks": "",
           "title": {
            "standoff": 15
           },
           "zerolinecolor": "white",
           "zerolinewidth": 2
          }
         }
        },
        "title": {
         "text": "Global AQI Map - Summer"
        }
       }
      },
      "image/png": "[encoded data removed]"
     },
     "metadata": {},
     "output_type": "display_data"
    },
    {
     "data": {
      "application/vnd.plotly.v1+json": {
       "config": {
        "plotlyServerURL": "https://plot.ly"
       },
       "data": [
        {
         "coloraxis": "coloraxis",
         "geo": "geo",
         "hovertemplate": "Country=%{location}<br>Average AQI=%{z}<extra></extra>",
         "locationmode": "country names",
         "locations": [
          "Albania",
          "Algeria",
          "Andorra",
          "Angola",
          "Argentina",
          "Armenia",
          "Australia",
          "Austria",
          "Azerbaijan",
          "Bahrain",
          "Bangladesh",
          "Belarus",
          "Belgium",
          "Belize",
          "Bermuda",
          "Bolivia",
          "Bosnia and Herzegovina",
          "Brazil",
          "Brunei",
          "Bulgaria",
          "Burkina Faso",
          "Cambodia",
          "Canada",
          "Cape Verde",
          "Cayman Islands",
          "Central African Republic",
          "Chad",
          "Chile",
          "China",
          "Colombia",
          "Costa Rica",
          "Croatia",
          "Cyprus",
          "Czech Republic",
          "Denmark",
          "Dominican Republic",
          "Ecuador",
          "Egypt",
          "El Salvador",
          "Estonia",
          "Ethiopia",
          "Finland",
          "France",
          "French Guiana",
          "Gabon",
          "Gambia",
          "Georgia",
          "Germany",
          "Ghana",
          "Gibraltar",
          "Greece",
          "Grenada",
          "Guadeloupe",
          "Guam",
          "Guatemala",
          "Honduras",
          "Hong Kong",
          "Hungary",
          "Iceland",
          "India",
          "Indonesia",
          "Iran",
          "Iraq",
          "Ireland",
          "Israel",
          "Italy",
          "Ivory Coast",
          "Japan",
          "Jersey",
          "Jordan",
          "Kazakhstan",
          "Kenya",
          "Kosovo",
          "Kuwait",
          "Kyrgyzstan",
          "Laos",
          "Latvia",
          "Lebanon",
          "Liberia",
          "Liechtenstein",
          "Lithuania",
          "Luxembourg",
          "Macao",
          "Macedonia",
          "Madagascar",
          "Malaysia",
          "Malta",
          "Martinique",
          "Mexico",
          "Moldova",
          "Monaco",
          "Mongolia",
          "Montenegro",
          "Myanmar",
          "Nepal",
          "Netherlands",
          "New Caledonia",
          "New Zealand",
          "Nigeria",
          "Norway",
          "Pakistan",
          "Palestinian Territory",
          "Peru",
          "Philippines",
          "Poland",
          "Portugal",
          "Puerto Rico",
          "Qatar",
          "Reunion",
          "Romania",
          "Russia",
          "San Marino",
          "Saudi Arabia",
          "Senegal",
          "Serbia",
          "Singapore",
          "Slovakia",
          "Slovenia",
          "South Africa",
          "South Korea",
          "Spain",
          "Sri Lanka",
          "Sudan",
          "Sweden",
          "Switzerland",
          "Taiwan",
          "Tajikistan",
          "Thailand",
          "Togo",
          "Trinidad and Tobago",
          "Turkey",
          "Turkmenistan",
          "Uganda",
          "Ukraine",
          "United Arab Emirates",
          "United Kingdom of Great Britain and Northern Ireland",
          "United States of America",
          "Uzbekistan",
          "Vatican",
          "Venezuela",
          "Vietnam",
          "Zambia"
         ],
         "name": "",
         "type": "choropleth",
         "z": {
          "bdata": "sRM7sRO7PEDrBlPks+5NQG7C/K4Wt0FAAAAAAACwXUC1uAnzu9pDQOnInoGo9EdAnDC/q8XNSUBkz0BUOjJBQLJnICodWUBAINEKmwNpYUBDeQ3lNSxgQKUjewaiUkFAcRPmd7W4SUBhinzWDSY2QGjdYIp81itART7rBlMkTEAT5ne1uAlNQODV4ibML1hAAAAAAAAAKEANRKUjewZCQOqgDuqgDlRAunPnzp07MEA+A1HpyF5TQOzETuzEzkpAAAAAAAAIIkDrQ2N9aCxeQAAAAAAAQlJAmN/V4iasYUCvFjdhfjdiQB3ZMxCVTlBAfcu3fMu3OkDzu1rchPlBQEf2DESlo0xAcRPmd7U4UEA3YX5Xi5s0QA1EpSN7BjlAqXRkz0DUTEBT5LNuMCVXQF+9evXqVVFANBCVjuwZOECtG0yRzxpiQIhKR/YMREBAkj0DUemIUEBH9gxEpSMvQCIiIiIiemFAVVVVVVX1OEAaiEpH9oxKQGggKh3Zc1VAVVVVVVXVUkCLmzC/q8VDQAai0pE9g0pAKvJZN5giL0A6smcgKh04QCivobyG8gJA4ybM72rxR0AV+awbTJE2QDqyZyAqnURALL7iK77iSUB+V4ubML8wQNyE+V0tbmhADUSlI3vGWkDZiZ3YiZ1kQPHw8PDw2GRABqLSkT0DOUCSPQNR6YhTQKl0ZM9AVFJAQRAEQRAESUC1uAnzuxpUQLdt27ZtWz1A2TMQlY7sPUAxv6vFTZhVQNIgDdIgrVNAR/YMRKWjQ0AOpshn3VBgQEtH9gxEJU5AdWTPQFS6Q0CLmzC/q8U7QLy7u7u7W1NA8xPirPyEQUAkewai0pE6QD4DUenIHkJAlY7sGYjKQUBEpSN7BiJGQESlI3sGoklADqbIZ90gTkC1uAnzu1pQQLh8y7d8i0ZAgqh0ZM/AQ0DJnoGodKRYQGTPQFQ6sjBA2TMQlY7sQUBH9gxEpaNIQBPmd7W4iURAotKRPQNRQkDC/K4WN+FLQMmegah05E9AchzHcRxnNEAQlY7sGQhBQF5DeQ3lJVdAHdkzEJWOPEDJnoGodKRWQBCVjuwZCE9AcRPmd7U4V0DsxE7sxE5SQF4tbsL8rk1AHdkzEJWOPEDWDabIZ90sQKmVWqmVWmNAV4ubML+rM0CvFjdhfhdQQLxa3IT5XVhAj+wZiErHSEDRRRdddJFXQCy+4iu+IkNAW9yE+V1tUEAd2TMQlY5GQCAqHdkzkElA+l0tbsL8Q0DW4ibM7ypZQDdhfleLG1RACvO7WtxEVECvFjdhfldGQFVVVVVVRVRAXi1uwvyuPEC5CfO7WtxCQJI9A1HpSE1AxU7sxE5sU0D2DESlIztXQCtsDiRa4VNAsmcgKh1ZQEAtbsL8rtZWQL7iK77iC1BA6wZT5LPOYEBUOrJnIKpLQIhKR/YMZGFAA1HpyJ6BTUBBVDqyZ6BeQESlI3sGokpAaCAqHdmzR0AbymsoryEnQJI9A1HpCFNA6wZT5LMuXkA=",
          "dtype": "f8"
         }
        }
       ],
       "layout": {
        "coloraxis": {
         "cmax": 500,
         "cmin": 0,
         "colorbar": {
          "title": {
           "text": "Average AQI"
          }
         },
         "colorscale": [
          [
           0,
           "green"
          ],
          [
           0.1,
           "yellow"
          ],
          [
           0.2,
           "orange"
          ],
          [
           0.3,
           "red"
          ],
          [
           0.4,
           "purple"
          ],
          [
           1,
           "maroon"
          ]
         ]
        },
        "geo": {
         "center": {},
         "domain": {
          "x": [
           0,
           1
          ],
          "y": [
           0,
           1
          ]
         },
         "projection": {
          "type": "natural earth"
         },
         "showcoastlines": true
        },
        "legend": {
         "tracegroupgap": 0
        },
        "template": {
         "data": {
          "bar": [
           {
            "error_x": {
             "color": "#2a3f5f"
            },
            "error_y": {
             "color": "#2a3f5f"
            },
            "marker": {
             "line": {
              "color": "#E5ECF6",
              "width": 0.5
             },
             "pattern": {
              "fillmode": "overlay",
              "size": 10,
              "solidity": 0.2
             }
            },
            "type": "bar"
           }
          ],
          "barpolar": [
           {
            "marker": {
             "line": {
              "color": "#E5ECF6",
              "width": 0.5
             },
             "pattern": {
              "fillmode": "overlay",
              "size": 10,
              "solidity": 0.2
             }
            },
            "type": "barpolar"
           }
          ],
          "carpet": [
           {
            "aaxis": {
             "endlinecolor": "#2a3f5f",
             "gridcolor": "white",
             "linecolor": "white",
             "minorgridcolor": "white",
             "startlinecolor": "#2a3f5f"
            },
            "baxis": {
             "endlinecolor": "#2a3f5f",
             "gridcolor": "white",
             "linecolor": "white",
             "minorgridcolor": "white",
             "startlinecolor": "#2a3f5f"
            },
            "type": "carpet"
           }
          ],
          "choropleth": [
           {
            "colorbar": {
             "outlinewidth": 0,
             "ticks": ""
            },
            "type": "choropleth"
           }
          ],
          "contour": [
           {
            "colorbar": {
             "outlinewidth": 0,
             "ticks": ""
            },
            "colorscale": [
             [
              0,
              "#0d0887"
             ],
             [
              0.1111111111111111,
              "#46039f"
             ],
             [
              0.2222222222222222,
              "#7201a8"
             ],
             [
              0.3333333333333333,
              "#9c179e"
             ],
             [
              0.4444444444444444,
              "#bd3786"
             ],
             [
              0.5555555555555556,
              "#d8576b"
             ],
             [
              0.6666666666666666,
              "#ed7953"
             ],
             [
              0.7777777777777778,
              "#fb9f3a"
             ],
             [
              0.8888888888888888,
              "#fdca26"
             ],
             [
              1,
              "#f0f921"
             ]
            ],
            "type": "contour"
           }
          ],
          "contourcarpet": [
           {
            "colorbar": {
             "outlinewidth": 0,
             "ticks": ""
            },
            "type": "contourcarpet"
           }
          ],
          "heatmap": [
           {
            "colorbar": {
             "outlinewidth": 0,
             "ticks": ""
            },
            "colorscale": [
             [
              0,
              "#0d0887"
             ],
             [
              0.1111111111111111,
              "#46039f"
             ],
             [
              0.2222222222222222,
              "#7201a8"
             ],
             [
              0.3333333333333333,
              "#9c179e"
             ],
             [
              0.4444444444444444,
              "#bd3786"
             ],
             [
              0.5555555555555556,
              "#d8576b"
             ],
             [
              0.6666666666666666,
              "#ed7953"
             ],
             [
              0.7777777777777778,
              "#fb9f3a"
             ],
             [
              0.8888888888888888,
              "#fdca26"
             ],
             [
              1,
              "#f0f921"
             ]
            ],
            "type": "heatmap"
           }
          ],
          "histogram": [
           {
            "marker": {
             "pattern": {
              "fillmode": "overlay",
              "size": 10,
              "solidity": 0.2
             }
            },
            "type": "histogram"
           }
          ],
          "histogram2d": [
           {
            "colorbar": {
             "outlinewidth": 0,
             "ticks": ""
            },
            "colorscale": [
             [
              0,
              "#0d0887"
             ],
             [
              0.1111111111111111,
              "#46039f"
             ],
             [
              0.2222222222222222,
              "#7201a8"
             ],
             [
              0.3333333333333333,
              "#9c179e"
             ],
             [
              0.4444444444444444,
              "#bd3786"
             ],
             [
              0.5555555555555556,
              "#d8576b"
             ],
             [
              0.6666666666666666,
              "#ed7953"
             ],
             [
              0.7777777777777778,
              "#fb9f3a"
             ],
             [
              0.8888888888888888,
              "#fdca26"
             ],
             [
              1,
              "#f0f921"
             ]
            ],
            "type": "histogram2d"
           }
          ],
          "histogram2dcontour": [
           {
            "colorbar": {
             "outlinewidth": 0,
             "ticks": ""
            },
            "colorscale": [
             [
              0,
              "#0d0887"
             ],
             [
              0.1111111111111111,
              "#46039f"
             ],
             [
              0.2222222222222222,
              "#7201a8"
             ],
             [
              0.3333333333333333,
              "#9c179e"
             ],
             [
              0.4444444444444444,
              "#bd3786"
             ],
             [
              0.5555555555555556,
              "#d8576b"
             ],
             [
              0.6666666666666666,
              "#ed7953"
             ],
             [
              0.7777777777777778,
              "#fb9f3a"
             ],
             [
              0.8888888888888888,
              "#fdca26"
             ],
             [
              1,
              "#f0f921"
             ]
            ],
            "type": "histogram2dcontour"
           }
          ],
          "mesh3d": [
           {
            "colorbar": {
             "outlinewidth": 0,
             "ticks": ""
            },
            "type": "mesh3d"
           }
          ],
          "parcoords": [
           {
            "line": {
             "colorbar": {
              "outlinewidth": 0,
              "ticks": ""
             }
            },
            "type": "parcoords"
           }
          ],
          "pie": [
           {
            "automargin": true,
            "type": "pie"
           }
          ],
          "scatter": [
           {
            "fillpattern": {
             "fillmode": "overlay",
             "size": 10,
             "solidity": 0.2
            },
            "type": "scatter"
           }
          ],
          "scatter3d": [
           {
            "line": {
             "colorbar": {
              "outlinewidth": 0,
              "ticks": ""
             }
            },
            "marker": {
             "colorbar": {
              "outlinewidth": 0,
              "ticks": ""
             }
            },
            "type": "scatter3d"
           }
          ],
          "scattercarpet": [
           {
            "marker": {
             "colorbar": {
              "outlinewidth": 0,
              "ticks": ""
             }
            },
            "type": "scattercarpet"
           }
          ],
          "scattergeo": [
           {
            "marker": {
             "colorbar": {
              "outlinewidth": 0,
              "ticks": ""
             }
            },
            "type": "scattergeo"
           }
          ],
          "scattergl": [
           {
            "marker": {
             "colorbar": {
              "outlinewidth": 0,
              "ticks": ""
             }
            },
            "type": "scattergl"
           }
          ],
          "scattermap": [
           {
            "marker": {
             "colorbar": {
              "outlinewidth": 0,
              "ticks": ""
             }
            },
            "type": "scattermap"
           }
          ],
          "scattermapbox": [
           {
            "marker": {
             "colorbar": {
              "outlinewidth": 0,
              "ticks": ""
             }
            },
            "type": "scattermapbox"
           }
          ],
          "scatterpolar": [
           {
            "marker": {
             "colorbar": {
              "outlinewidth": 0,
              "ticks": ""
             }
            },
            "type": "scatterpolar"
           }
          ],
          "scatterpolargl": [
           {
            "marker": {
             "colorbar": {
              "outlinewidth": 0,
              "ticks": ""
             }
            },
            "type": "scatterpolargl"
           }
          ],
          "scatterternary": [
           {
            "marker": {
             "colorbar": {
              "outlinewidth": 0,
              "ticks": ""
             }
            },
            "type": "scatterternary"
           }
          ],
          "surface": [
           {
            "colorbar": {
             "outlinewidth": 0,
             "ticks": ""
            },
            "colorscale": [
             [
              0,
              "#0d0887"
             ],
             [
              0.1111111111111111,
              "#46039f"
             ],
             [
              0.2222222222222222,
              "#7201a8"
             ],
             [
              0.3333333333333333,
              "#9c179e"
             ],
             [
              0.4444444444444444,
              "#bd3786"
             ],
             [
              0.5555555555555556,
              "#d8576b"
             ],
             [
              0.6666666666666666,
              "#ed7953"
             ],
             [
              0.7777777777777778,
              "#fb9f3a"
             ],
             [
              0.8888888888888888,
              "#fdca26"
             ],
             [
              1,
              "#f0f921"
             ]
            ],
            "type": "surface"
           }
          ],
          "table": [
           {
            "cells": {
             "fill": {
              "color": "#EBF0F8"
             },
             "line": {
              "color": "white"
             }
            },
            "header": {
             "fill": {
              "color": "#C8D4E3"
             },
             "line": {
              "color": "white"
             }
            },
            "type": "table"
           }
          ]
         },
         "layout": {
          "annotationdefaults": {
           "arrowcolor": "#2a3f5f",
           "arrowhead": 0,
           "arrowwidth": 1
          },
          "autotypenumbers": "strict",
          "coloraxis": {
           "colorbar": {
            "outlinewidth": 0,
            "ticks": ""
           }
          },
          "colorscale": {
           "diverging": [
            [
             0,
             "#8e0152"
            ],
            [
             0.1,
             "#c51b7d"
            ],
            [
             0.2,
             "#de77ae"
            ],
            [
             0.3,
             "#f1b6da"
            ],
            [
             0.4,
             "#fde0ef"
            ],
            [
             0.5,
             "#f7f7f7"
            ],
            [
             0.6,
             "#e6f5d0"
            ],
            [
             0.7,
             "#b8e186"
            ],
            [
             0.8,
             "#7fbc41"
            ],
            [
             0.9,
             "#4d9221"
            ],
            [
             1,
             "#276419"
            ]
           ],
           "sequential": [
            [
             0,
             "#0d0887"
            ],
            [
             0.1111111111111111,
             "#46039f"
            ],
            [
             0.2222222222222222,
             "#7201a8"
            ],
            [
             0.3333333333333333,
             "#9c179e"
            ],
            [
             0.4444444444444444,
             "#bd3786"
            ],
            [
             0.5555555555555556,
             "#d8576b"
            ],
            [
             0.6666666666666666,
             "#ed7953"
            ],
            [
             0.7777777777777778,
             "#fb9f3a"
            ],
            [
             0.8888888888888888,
             "#fdca26"
            ],
            [
             1,
             "#f0f921"
            ]
           ],
           "sequentialminus": [
            [
             0,
             "#0d0887"
            ],
            [
             0.1111111111111111,
             "#46039f"
            ],
            [
             0.2222222222222222,
             "#7201a8"
            ],
            [
             0.3333333333333333,
             "#9c179e"
            ],
            [
             0.4444444444444444,
             "#bd3786"
            ],
            [
             0.5555555555555556,
             "#d8576b"
            ],
            [
             0.6666666666666666,
             "#ed7953"
            ],
            [
             0.7777777777777778,
             "#fb9f3a"
            ],
            [
             0.8888888888888888,
             "#fdca26"
            ],
            [
             1,
             "#f0f921"
            ]
           ]
          },
          "colorway": [
           "#636efa",
           "#EF553B",
           "#00cc96",
           "#ab63fa",
           "#FFA15A",
           "#19d3f3",
           "#FF6692",
           "#B6E880",
           "#FF97FF",
           "#FECB52"
          ],
          "font": {
           "color": "#2a3f5f"
          },
          "geo": {
           "bgcolor": "white",
           "lakecolor": "white",
           "landcolor": "#E5ECF6",
           "showlakes": true,
           "showland": true,
           "subunitcolor": "white"
          },
          "hoverlabel": {
           "align": "left"
          },
          "hovermode": "closest",
          "mapbox": {
           "style": "light"
          },
          "paper_bgcolor": "white",
          "plot_bgcolor": "#E5ECF6",
          "polar": {
           "angularaxis": {
            "gridcolor": "white",
            "linecolor": "white",
            "ticks": ""
           },
           "bgcolor": "#E5ECF6",
           "radialaxis": {
            "gridcolor": "white",
            "linecolor": "white",
            "ticks": ""
           }
          },
          "scene": {
           "xaxis": {
            "backgroundcolor": "#E5ECF6",
            "gridcolor": "white",
            "gridwidth": 2,
            "linecolor": "white",
            "showbackground": true,
            "ticks": "",
            "zerolinecolor": "white"
           },
           "yaxis": {
            "backgroundcolor": "#E5ECF6",
            "gridcolor": "white",
            "gridwidth": 2,
            "linecolor": "white",
            "showbackground": true,
            "ticks": "",
            "zerolinecolor": "white"
           },
           "zaxis": {
            "backgroundcolor": "#E5ECF6",
            "gridcolor": "white",
            "gridwidth": 2,
            "linecolor": "white",
            "showbackground": true,
            "ticks": "",
            "zerolinecolor": "white"
           }
          },
          "shapedefaults": {
           "line": {
            "color": "#2a3f5f"
           }
          },
          "ternary": {
           "aaxis": {
            "gridcolor": "white",
            "linecolor": "white",
            "ticks": ""
           },
           "baxis": {
            "gridcolor": "white",
            "linecolor": "white",
            "ticks": ""
           },
           "bgcolor": "#E5ECF6",
           "caxis": {
            "gridcolor": "white",
            "linecolor": "white",
            "ticks": ""
           }
          },
          "title": {
           "x": 0.05
          },
          "xaxis": {
           "automargin": true,
           "gridcolor": "white",
           "linecolor": "white",
           "ticks": "",
           "title": {
            "standoff": 15
           },
           "zerolinecolor": "white",
           "zerolinewidth": 2
          },
          "yaxis": {
           "automargin": true,
           "gridcolor": "white",
           "linecolor": "white",
           "ticks": "",
           "title": {
            "standoff": 15
           },
           "zerolinecolor": "white",
           "zerolinewidth": 2
          }
         }
        },
        "title": {
         "text": "Global AQI Map - Monsoon"
        }
       }
      },
      "image/png": "[encoded data removed]"
     },
     "metadata": {},
     "output_type": "display_data"
    },
    {
     "data": {
      "application/vnd.plotly.v1+json": {
       "config": {
        "plotlyServerURL": "https://plot.ly"
       },
       "data": [
        {
         "coloraxis": "coloraxis",
         "geo": "geo",
         "hovertemplate": "Country=%{location}<br>Average AQI=%{z}<extra></extra>",
         "locationmode": "country names",
         "locations": [
          "Albania",
          "Algeria",
          "Andorra",
          "Angola",
          "Argentina",
          "Armenia",
          "Australia",
          "Austria",
          "Azerbaijan",
          "Bahrain",
          "Bangladesh",
          "Belarus",
          "Belgium",
          "Belize",
          "Bermuda",
          "Bolivia",
          "Bosnia and Herzegovina",
          "Brazil",
          "Brunei",
          "Bulgaria",
          "Burkina Faso",
          "Cambodia",
          "Canada",
          "Cape Verde",
          "Cayman Islands",
          "Central African Republic",
          "Chad",
          "Chile",
          "China",
          "Colombia",
          "Costa Rica",
          "Croatia",
          "Cyprus",
          "Czech Republic",
          "Denmark",
          "Dominican Republic",
          "Ecuador",
          "Egypt",
          "El Salvador",
          "Estonia",
          "Ethiopia",
          "Finland",
          "France",
          "French Guiana",
          "Gabon",
          "Gambia",
          "Georgia",
          "Germany",
          "Ghana",
          "Gibraltar",
          "Greece",
          "Grenada",
          "Guadeloupe",
          "Guam",
          "Guatemala",
          "Honduras",
          "Hong Kong",
          "Hungary",
          "Iceland",
          "India",
          "Indonesia",
          "Iran",
          "Iraq",
          "Ireland",
          "Israel",
          "Italy",
          "Ivory Coast",
          "Japan",
          "Jersey",
          "Jordan",
          "Kazakhstan",
          "Kenya",
          "Kosovo",
          "Kuwait",
          "Kyrgyzstan",
          "Laos",
          "Latvia",
          "Lebanon",
          "Liberia",
          "Liechtenstein",
          "Lithuania",
          "Luxembourg",
          "Macao",
          "Macedonia",
          "Madagascar",
          "Malaysia",
          "Malta",
          "Martinique",
          "Mexico",
          "Moldova",
          "Monaco",
          "Mongolia",
          "Montenegro",
          "Myanmar",
          "Nepal",
          "Netherlands",
          "New Caledonia",
          "New Zealand",
          "Nigeria",
          "Norway",
          "Pakistan",
          "Palestinian Territory",
          "Peru",
          "Philippines",
          "Poland",
          "Portugal",
          "Puerto Rico",
          "Qatar",
          "Reunion",
          "Romania",
          "Russia",
          "San Marino",
          "Saudi Arabia",
          "Senegal",
          "Serbia",
          "Singapore",
          "Slovakia",
          "Slovenia",
          "South Africa",
          "South Korea",
          "Spain",
          "Sri Lanka",
          "Sudan",
          "Sweden",
          "Switzerland",
          "Taiwan",
          "Tajikistan",
          "Thailand",
          "Togo",
          "Trinidad and Tobago",
          "Turkey",
          "Turkmenistan",
          "Uganda",
          "Ukraine",
          "United Arab Emirates",
          "United Kingdom of Great Britain and Northern Ireland",
          "United States of America",
          "Uzbekistan",
          "Vatican",
          "Venezuela",
          "Vietnam",
          "Zambia"
         ],
         "name": "",
         "type": "choropleth",
         "z": {
          "bdata": "OY7jOI6jNkAAAAAAAEBQQMdxHMdxXDdAspCFLGQhWEAcx3EcxzFAQAAAAAAA4FBAx3Ecx3EcR0Acx3Ecx7FAQHIcx3EcR0dAzczMzMxMXkAAAAAAAHBiQHIcx3Ech0BAjuM4juO4RUDbtm3bti0wQNu2bdu2bSlAbtu2bdvmWECO4ziO4xhNQMdxHMdxPFdAVVVVVVVVJkA5juM4jsNCQKuqqqqqykJAzczMzMzMNECO4ziO49hQQHIcx3EcJ0FAhixkIQtZIEAWspCFLGRVQI7jOI7jOFBAHMdxHMexV0Acx3Ecx/FlQDmO4ziOQ1JAxVd8xVf8QkDkOI7jOC5BQBzHcRzH0UpAHMdxHMfRTUDHcRzHcZwzQAAAAAAAQDpAx3Ecx3H8UkByHMdxHOdWQLdt27ZtO0pAAAAAAAAANEByHMdxHA9gQI7jOI7j+DRA5DiO4ziOTkCO4ziO4zg5QAtZyEIWMlhAIQtZyEIWNkBVVVVVVXVKQKuqqqqq2lRAHMdxHMdxSkBVVVVVVZU+QAAAAAAAwEdAbtu2bdu2JkDkOI7jOM4yQAtZyEIWshBAq6qqqqoqTEBu27Zt27ZAQFVVVVVVxVJAHMdxHMfxSkDHcRzHcZwwQOQ4juM4tmpA5DiO4ziOWkDHcRzHcbxhQBzHcRzHQWFAHMdxHMcxP0Acx3EcxwFRQFVVVVVVFVFArbXWWmutSEA5juM4jpNRQGZmZmZmZjpAVVVVVVUVPUA5juM4jvNWQI7jOI7jeFJAVVVVVVUVREAcx3Ecx1FbQAAAAAAAAFRAx3Ecx3H8TECO4ziO4/g3QAAAAAAAAFNAjuM4juM4QUA5juM4jmM1QDmO4ziOIzlA27Zt27ZtP0DkOI7jOF5VQI7jOI7jGExAchzHcRx3U0Acx3Ecx/FOQAAAAAAAwEBAq6qqqqpqPUDHcRzHcSxVQI7jOI7j+DRAAAAAAAAAPUAcx3Ecx1FSQKuqqqqqykFAVVVVVVV1RkA5juM4jnNWQBzHcRzHMVBA5DiO4zhOOUAcx3Ecx/E9QHIcx3EcN1dAjuM4juO4N0AAAAAAADBaQOQ4juM4LkpAq6qqqqoaWEAAAAAAAHBSQI7jOI7jGE5AjuM4juM4PEC3bdu2bdsgQAAAAAAA4GZAjuM4juN4NECO4ziO45hQQMdxHMdxjFpAchzHcRwHRUAAAAAAAABBQJjQXkJ7iUJA5DiO4zjOUkDHcRzHcfxKQMdxHMdxfEhAAAAAAAAAQ0A5juM4jkNUQBzHcRzHEVNAq6qqqqraUUBVVVVVVXVOQAAAAAAAoFBAVVVVVVXVOEByHMdxHOdBQKuqqqqqulFAq6qqqqq6WECO4ziO40hcQGIndmIn9kVAAAAAAADAPEAcx3Ecx6FbQLmnEZZ7GlFAchzHcRz3WUByHMdxHAdOQHIcx3EcJ1hAOY7jOI6DTkDkOI7jON5gQPjggw8+uFlAq6qqqqpKRUAQPvjggw82QKuqqqqqCldA7FG4HoWLYEA=",
          "dtype": "f8"
         }
        }
       ],
       "layout": {
        "coloraxis": {
         "cmax": 500,
         "cmin": 0,
         "colorbar": {
          "title": {
           "text": "Average AQI"
          }
         },
         "colorscale": [
          [
           0,
           "green"
          ],
          [
           0.1,
           "yellow"
          ],
          [
           0.2,
           "orange"
          ],
          [
           0.3,
           "red"
          ],
          [
           0.4,
           "purple"
          ],
          [
           1,
           "maroon"
          ]
         ]
        },
        "geo": {
         "center": {},
         "domain": {
          "x": [
           0,
           1
          ],
          "y": [
           0,
           1
          ]
         },
         "projection": {
          "type": "natural earth"
         },
         "showcoastlines": true
        },
        "legend": {
         "tracegroupgap": 0
        },
        "template": {
         "data": {
          "bar": [
           {
            "error_x": {
             "color": "#2a3f5f"
            },
            "error_y": {
             "color": "#2a3f5f"
            },
            "marker": {
             "line": {
              "color": "#E5ECF6",
              "width": 0.5
             },
             "pattern": {
              "fillmode": "overlay",
              "size": 10,
              "solidity": 0.2
             }
            },
            "type": "bar"
           }
          ],
          "barpolar": [
           {
            "marker": {
             "line": {
              "color": "#E5ECF6",
              "width": 0.5
             },
             "pattern": {
              "fillmode": "overlay",
              "size": 10,
              "solidity": 0.2
             }
            },
            "type": "barpolar"
           }
          ],
          "carpet": [
           {
            "aaxis": {
             "endlinecolor": "#2a3f5f",
             "gridcolor": "white",
             "linecolor": "white",
             "minorgridcolor": "white",
             "startlinecolor": "#2a3f5f"
            },
            "baxis": {
             "endlinecolor": "#2a3f5f",
             "gridcolor": "white",
             "linecolor": "white",
             "minorgridcolor": "white",
             "startlinecolor": "#2a3f5f"
            },
            "type": "carpet"
           }
          ],
          "choropleth": [
           {
            "colorbar": {
             "outlinewidth": 0,
             "ticks": ""
            },
            "type": "choropleth"
           }
          ],
          "contour": [
           {
            "colorbar": {
             "outlinewidth": 0,
             "ticks": ""
            },
            "colorscale": [
             [
              0,
              "#0d0887"
             ],
             [
              0.1111111111111111,
              "#46039f"
             ],
             [
              0.2222222222222222,
              "#7201a8"
             ],
             [
              0.3333333333333333,
              "#9c179e"
             ],
             [
              0.4444444444444444,
              "#bd3786"
             ],
             [
              0.5555555555555556,
              "#d8576b"
             ],
             [
              0.6666666666666666,
              "#ed7953"
             ],
             [
              0.7777777777777778,
              "#fb9f3a"
             ],
             [
              0.8888888888888888,
              "#fdca26"
             ],
             [
              1,
              "#f0f921"
             ]
            ],
            "type": "contour"
           }
          ],
          "contourcarpet": [
           {
            "colorbar": {
             "outlinewidth": 0,
             "ticks": ""
            },
            "type": "contourcarpet"
           }
          ],
          "heatmap": [
           {
            "colorbar": {
             "outlinewidth": 0,
             "ticks": ""
            },
            "colorscale": [
             [
              0,
              "#0d0887"
             ],
             [
              0.1111111111111111,
              "#46039f"
             ],
             [
              0.2222222222222222,
              "#7201a8"
             ],
             [
              0.3333333333333333,
              "#9c179e"
             ],
             [
              0.4444444444444444,
              "#bd3786"
             ],
             [
              0.5555555555555556,
              "#d8576b"
             ],
             [
              0.6666666666666666,
              "#ed7953"
             ],
             [
              0.7777777777777778,
              "#fb9f3a"
             ],
             [
              0.8888888888888888,
              "#fdca26"
             ],
             [
              1,
              "#f0f921"
             ]
            ],
            "type": "heatmap"
           }
          ],
          "histogram": [
           {
            "marker": {
             "pattern": {
              "fillmode": "overlay",
              "size": 10,
              "solidity": 0.2
             }
            },
            "type": "histogram"
           }
          ],
          "histogram2d": [
           {
            "colorbar": {
             "outlinewidth": 0,
             "ticks": ""
            },
            "colorscale": [
             [
              0,
              "#0d0887"
             ],
             [
              0.1111111111111111,
              "#46039f"
             ],
             [
              0.2222222222222222,
              "#7201a8"
             ],
             [
              0.3333333333333333,
              "#9c179e"
             ],
             [
              0.4444444444444444,
              "#bd3786"
             ],
             [
              0.5555555555555556,
              "#d8576b"
             ],
             [
              0.6666666666666666,
              "#ed7953"
             ],
             [
              0.7777777777777778,
              "#fb9f3a"
             ],
             [
              0.8888888888888888,
              "#fdca26"
             ],
             [
              1,
              "#f0f921"
             ]
            ],
            "type": "histogram2d"
           }
          ],
          "histogram2dcontour": [
           {
            "colorbar": {
             "outlinewidth": 0,
             "ticks": ""
            },
            "colorscale": [
             [
              0,
              "#0d0887"
             ],
             [
              0.1111111111111111,
              "#46039f"
             ],
             [
              0.2222222222222222,
              "#7201a8"
             ],
             [
              0.3333333333333333,
              "#9c179e"
             ],
             [
              0.4444444444444444,
              "#bd3786"
             ],
             [
              0.5555555555555556,
              "#d8576b"
             ],
             [
              0.6666666666666666,
              "#ed7953"
             ],
             [
              0.7777777777777778,
              "#fb9f3a"
             ],
             [
              0.8888888888888888,
              "#fdca26"
             ],
             [
              1,
              "#f0f921"
             ]
            ],
            "type": "histogram2dcontour"
           }
          ],
          "mesh3d": [
           {
            "colorbar": {
             "outlinewidth": 0,
             "ticks": ""
            },
            "type": "mesh3d"
           }
          ],
          "parcoords": [
           {
            "line": {
             "colorbar": {
              "outlinewidth": 0,
              "ticks": ""
             }
            },
            "type": "parcoords"
           }
          ],
          "pie": [
           {
            "automargin": true,
            "type": "pie"
           }
          ],
          "scatter": [
           {
            "fillpattern": {
             "fillmode": "overlay",
             "size": 10,
             "solidity": 0.2
            },
            "type": "scatter"
           }
          ],
          "scatter3d": [
           {
            "line": {
             "colorbar": {
              "outlinewidth": 0,
              "ticks": ""
             }
            },
            "marker": {
             "colorbar": {
              "outlinewidth": 0,
              "ticks": ""
             }
            },
            "type": "scatter3d"
           }
          ],
          "scattercarpet": [
           {
            "marker": {
             "colorbar": {
              "outlinewidth": 0,
              "ticks": ""
             }
            },
            "type": "scattercarpet"
           }
          ],
          "scattergeo": [
           {
            "marker": {
             "colorbar": {
              "outlinewidth": 0,
              "ticks": ""
             }
            },
            "type": "scattergeo"
           }
          ],
          "scattergl": [
           {
            "marker": {
             "colorbar": {
              "outlinewidth": 0,
              "ticks": ""
             }
            },
            "type": "scattergl"
           }
          ],
          "scattermap": [
           {
            "marker": {
             "colorbar": {
              "outlinewidth": 0,
              "ticks": ""
             }
            },
            "type": "scattermap"
           }
          ],
          "scattermapbox": [
           {
            "marker": {
             "colorbar": {
              "outlinewidth": 0,
              "ticks": ""
             }
            },
            "type": "scattermapbox"
           }
          ],
          "scatterpolar": [
           {
            "marker": {
             "colorbar": {
              "outlinewidth": 0,
              "ticks": ""
             }
            },
            "type": "scatterpolar"
           }
          ],
          "scatterpolargl": [
           {
            "marker": {
             "colorbar": {
              "outlinewidth": 0,
              "ticks": ""
             }
            },
            "type": "scatterpolargl"
           }
          ],
          "scatterternary": [
           {
            "marker": {
             "colorbar": {
              "outlinewidth": 0,
              "ticks": ""
             }
            },
            "type": "scatterternary"
           }
          ],
          "surface": [
           {
            "colorbar": {
             "outlinewidth": 0,
             "ticks": ""
            },
            "colorscale": [
             [
              0,
              "#0d0887"
             ],
             [
              0.1111111111111111,
              "#46039f"
             ],
             [
              0.2222222222222222,
              "#7201a8"
             ],
             [
              0.3333333333333333,
              "#9c179e"
             ],
             [
              0.4444444444444444,
              "#bd3786"
             ],
             [
              0.5555555555555556,
              "#d8576b"
             ],
             [
              0.6666666666666666,
              "#ed7953"
             ],
             [
              0.7777777777777778,
              "#fb9f3a"
             ],
             [
              0.8888888888888888,
              "#fdca26"
             ],
             [
              1,
              "#f0f921"
             ]
            ],
            "type": "surface"
           }
          ],
          "table": [
           {
            "cells": {
             "fill": {
              "color": "#EBF0F8"
             },
             "line": {
              "color": "white"
             }
            },
            "header": {
             "fill": {
              "color": "#C8D4E3"
             },
             "line": {
              "color": "white"
             }
            },
            "type": "table"
           }
          ]
         },
         "layout": {
          "annotationdefaults": {
           "arrowcolor": "#2a3f5f",
           "arrowhead": 0,
           "arrowwidth": 1
          },
          "autotypenumbers": "strict",
          "coloraxis": {
           "colorbar": {
            "outlinewidth": 0,
            "ticks": ""
           }
          },
          "colorscale": {
           "diverging": [
            [
             0,
             "#8e0152"
            ],
            [
             0.1,
             "#c51b7d"
            ],
            [
             0.2,
             "#de77ae"
            ],
            [
             0.3,
             "#f1b6da"
            ],
            [
             0.4,
             "#fde0ef"
            ],
            [
             0.5,
             "#f7f7f7"
            ],
            [
             0.6,
             "#e6f5d0"
            ],
            [
             0.7,
             "#b8e186"
            ],
            [
             0.8,
             "#7fbc41"
            ],
            [
             0.9,
             "#4d9221"
            ],
            [
             1,
             "#276419"
            ]
           ],
           "sequential": [
            [
             0,
             "#0d0887"
            ],
            [
             0.1111111111111111,
             "#46039f"
            ],
            [
             0.2222222222222222,
             "#7201a8"
            ],
            [
             0.3333333333333333,
             "#9c179e"
            ],
            [
             0.4444444444444444,
             "#bd3786"
            ],
            [
             0.5555555555555556,
             "#d8576b"
            ],
            [
             0.6666666666666666,
             "#ed7953"
            ],
            [
             0.7777777777777778,
             "#fb9f3a"
            ],
            [
             0.8888888888888888,
             "#fdca26"
            ],
            [
             1,
             "#f0f921"
            ]
           ],
           "sequentialminus": [
            [
             0,
             "#0d0887"
            ],
            [
             0.1111111111111111,
             "#46039f"
            ],
            [
             0.2222222222222222,
             "#7201a8"
            ],
            [
             0.3333333333333333,
             "#9c179e"
            ],
            [
             0.4444444444444444,
             "#bd3786"
            ],
            [
             0.5555555555555556,
             "#d8576b"
            ],
            [
             0.6666666666666666,
             "#ed7953"
            ],
            [
             0.7777777777777778,
             "#fb9f3a"
            ],
            [
             0.8888888888888888,
             "#fdca26"
            ],
            [
             1,
             "#f0f921"
            ]
           ]
          },
          "colorway": [
           "#636efa",
           "#EF553B",
           "#00cc96",
           "#ab63fa",
           "#FFA15A",
           "#19d3f3",
           "#FF6692",
           "#B6E880",
           "#FF97FF",
           "#FECB52"
          ],
          "font": {
           "color": "#2a3f5f"
          },
          "geo": {
           "bgcolor": "white",
           "lakecolor": "white",
           "landcolor": "#E5ECF6",
           "showlakes": true,
           "showland": true,
           "subunitcolor": "white"
          },
          "hoverlabel": {
           "align": "left"
          },
          "hovermode": "closest",
          "mapbox": {
           "style": "light"
          },
          "paper_bgcolor": "white",
          "plot_bgcolor": "#E5ECF6",
          "polar": {
           "angularaxis": {
            "gridcolor": "white",
            "linecolor": "white",
            "ticks": ""
           },
           "bgcolor": "#E5ECF6",
           "radialaxis": {
            "gridcolor": "white",
            "linecolor": "white",
            "ticks": ""
           }
          },
          "scene": {
           "xaxis": {
            "backgroundcolor": "#E5ECF6",
            "gridcolor": "white",
            "gridwidth": 2,
            "linecolor": "white",
            "showbackground": true,
            "ticks": "",
            "zerolinecolor": "white"
           },
           "yaxis": {
            "backgroundcolor": "#E5ECF6",
            "gridcolor": "white",
            "gridwidth": 2,
            "linecolor": "white",
            "showbackground": true,
            "ticks": "",
            "zerolinecolor": "white"
           },
           "zaxis": {
            "backgroundcolor": "#E5ECF6",
            "gridcolor": "white",
            "gridwidth": 2,
            "linecolor": "white",
            "showbackground": true,
            "ticks": "",
            "zerolinecolor": "white"
           }
          },
          "shapedefaults": {
           "line": {
            "color": "#2a3f5f"
           }
          },
          "ternary": {
           "aaxis": {
            "gridcolor": "white",
            "linecolor": "white",
            "ticks": ""
           },
           "baxis": {
            "gridcolor": "white",
            "linecolor": "white",
            "ticks": ""
           },
           "bgcolor": "#E5ECF6",
           "caxis": {
            "gridcolor": "white",
            "linecolor": "white",
            "ticks": ""
           }
          },
          "title": {
           "x": 0.05
          },
          "xaxis": {
           "automargin": true,
           "gridcolor": "white",
           "linecolor": "white",
           "ticks": "",
           "title": {
            "standoff": 15
           },
           "zerolinecolor": "white",
           "zerolinewidth": 2
          },
          "yaxis": {
           "automargin": true,
           "gridcolor": "white",
           "linecolor": "white",
           "ticks": "",
           "title": {
            "standoff": 15
           },
           "zerolinecolor": "white",
           "zerolinewidth": 2
          }
         }
        },
        "title": {
         "text": "Global AQI Map - Autumn"
        }
       }
      },
      "image/png": "[encoded data removed]"
     },
     "metadata": {},
     "output_type": "display_data"
    },
    {
     "name": "stdout",
     "output_type": "stream",
     "text": [
      "Season with highest average AQI globally:\n",
      "     Season    avg_aqi\n",
      "3   Winter  78.282565\n",
      "2   Summer  68.208225\n",
      "1  Monsoon  61.787735\n",
      "0   Autumn  60.767514\n"
     ]
    }
   ],
   "source": [
    "df['Date'] = pd.to_datetime(df['Date'], errors='coerce')\n",
    "\n",
    "# Step 2: Define function to assign seasons\n",
    "def get_season(month):\n",
    "    if month in [12, 1, 2]:\n",
    "        return 'Winter'\n",
    "    elif month in [3, 4, 5]:\n",
    "        return 'Summer'\n",
    "    elif month in [6, 7, 8]:\n",
    "        return 'Monsoon'\n",
    "    else:\n",
    "        return 'Autumn'\n",
    "\n",
    "# Step 3: Add Season column\n",
    "df['Season'] = df['Date'].dt.month.apply(get_season)\n",
    "\n",
    "# Step 4: Group by Country and Season to compute average AQI\n",
    "df_grouped = df.groupby(['Country', 'Season'])['AQI Value'].mean().reset_index()\n",
    "df_grouped.rename(columns={'AQI Value': 'avg_aqi'}, inplace=True)\n",
    "\n",
    "# Step 5: Loop through seasons and generate a map per season\n",
    "for season in ['Winter', 'Summer', 'Monsoon', 'Autumn']:\n",
    "    df_season = df_grouped[df_grouped['Season'] == season]\n",
    "\n",
    "    fig = px.choropleth(\n",
    "        df_season,\n",
    "        locations=\"Country\",\n",
    "        locationmode=\"country names\",\n",
    "        color=\"avg_aqi\",\n",
    "        color_continuous_scale=[\n",
    "            (0.00, \"green\"),\n",
    "            (0.10, \"yellow\"),\n",
    "            (0.20, \"orange\"),\n",
    "            (0.30, \"red\"),\n",
    "            (0.40, \"purple\"),\n",
    "            (1.00, \"maroon\")\n",
    "        ],\n",
    "        range_color=(0, 500),\n",
    "        labels={'avg_aqi': 'Average AQI'},\n",
    "        title=f\"Global AQI Map - {season}\"\n",
    "    )\n",
    "\n",
    "    fig.update_geos(showcoastlines=True, projection_type=\"natural earth\")\n",
    "    fig.show()\n",
    "\n",
    "# Step 6: Optional - Show which season has highest average AQI globally\n",
    "season_avg = df_grouped.groupby(\"Season\")[\"avg_aqi\"].mean().reset_index().sort_values(\"avg_aqi\", ascending=False)\n",
    "print(\"Season with highest average AQI globally:\\n\", season_avg)"
   ]
  },
  {
   "cell_type": "code",
   "execution_count": 29,
   "id": "1f633290-9792-48d6-8cc6-7f079b9ee536",
   "metadata": {},
   "outputs": [
    {
     "name": "stdout",
     "output_type": "stream",
     "text": [
      "    Season  Sample Count\n",
      "0  Monsoon         10743\n",
      "1   Autumn          4825\n",
      "2   Summer          2655\n",
      "3   Winter          1725\n"
     ]
    }
   ],
   "source": [
    "season_counts = df['Season'].value_counts().reset_index()\n",
    "season_counts.columns = ['Season', 'Sample Count']\n",
    "print(season_counts)\n"
   ]
  },
  {
   "cell_type": "code",
   "execution_count": 30,
   "id": "39e9aef0-3177-4ad0-926e-7d3adda946e7",
   "metadata": {},
   "outputs": [
    {
     "name": "stdout",
     "output_type": "stream",
     "text": [
      "     Country   Season  Sample Count\n",
      "0    Albania   Autumn            36\n",
      "1    Albania  Monsoon            78\n",
      "2    Albania   Summer            22\n",
      "3    Albania   Winter            12\n",
      "4    Algeria   Autumn            33\n",
      "..       ...      ...           ...\n",
      "559  Vietnam   Winter            14\n",
      "560   Zambia   Autumn            25\n",
      "561   Zambia  Monsoon            74\n",
      "562   Zambia   Summer             8\n",
      "563   Zambia   Winter             1\n",
      "\n",
      "[564 rows x 3 columns]\n"
     ]
    }
   ],
   "source": [
    "country_season_counts = df.groupby(['Country', 'Season']).size().reset_index(name='Sample Count')\n",
    "print(country_season_counts)\n"
   ]
  },
  {
   "cell_type": "markdown",
   "id": "f1eb7a02-88fe-4c16-b1cf-586e9d0eb32d",
   "metadata": {},
   "source": [
    "## Observations\n",
    "- Country Saudi Arabia has the highest AQI\n",
    "- Most data falls under \"Good\" status\n",
    "- Highest AQI  in winter months"
   ]
  },
  {
   "cell_type": "markdown",
   "id": "86c52fb2",
   "metadata": {},
   "source": [
    "## 🔍 Extended Analysis: Industrial Emissions & Compliance"
   ]
  },
  {
   "cell_type": "markdown",
   "id": "5b5d1965",
   "metadata": {},
   "source": [
    "### 🏭 Zone Type Mapping (Urban/Industrial/Other)"
   ]
  },
  {
   "cell_type": "code",
   "execution_count": 31,
   "id": "4c3890b3",
   "metadata": {},
   "outputs": [
    {
     "data": {
      "text/html": [
       "<div>\n",
       "<style scoped>\n",
       "    .dataframe tbody tr th:only-of-type {\n",
       "        vertical-align: middle;\n",
       "    }\n",
       "\n",
       "    .dataframe tbody tr th {\n",
       "        vertical-align: top;\n",
       "    }\n",
       "\n",
       "    .dataframe thead th {\n",
       "        text-align: right;\n",
       "    }\n",
       "</style>\n",
       "<table border=\"1\" class=\"dataframe\">\n",
       "  <thead>\n",
       "    <tr style=\"text-align: right;\">\n",
       "      <th></th>\n",
       "      <th>Country</th>\n",
       "      <th>AQI Value</th>\n",
       "      <th>Zone_Type</th>\n",
       "    </tr>\n",
       "  </thead>\n",
       "  <tbody>\n",
       "    <tr>\n",
       "      <th>0</th>\n",
       "      <td>Albania</td>\n",
       "      <td>14</td>\n",
       "      <td>Clean/Rural</td>\n",
       "    </tr>\n",
       "    <tr>\n",
       "      <th>1</th>\n",
       "      <td>Algeria</td>\n",
       "      <td>65</td>\n",
       "      <td>Clean/Rural</td>\n",
       "    </tr>\n",
       "    <tr>\n",
       "      <th>2</th>\n",
       "      <td>Andorra</td>\n",
       "      <td>55</td>\n",
       "      <td>Clean/Rural</td>\n",
       "    </tr>\n",
       "    <tr>\n",
       "      <th>3</th>\n",
       "      <td>Angola</td>\n",
       "      <td>113</td>\n",
       "      <td>Urban</td>\n",
       "    </tr>\n",
       "    <tr>\n",
       "      <th>4</th>\n",
       "      <td>Argentina</td>\n",
       "      <td>63</td>\n",
       "      <td>Clean/Rural</td>\n",
       "    </tr>\n",
       "  </tbody>\n",
       "</table>\n",
       "</div>"
      ],
      "text/plain": [
       "     Country  AQI Value    Zone_Type\n",
       "0    Albania         14  Clean/Rural\n",
       "1    Algeria         65  Clean/Rural\n",
       "2    Andorra         55  Clean/Rural\n",
       "3     Angola        113        Urban\n",
       "4  Argentina         63  Clean/Rural"
      ]
     },
     "execution_count": 31,
     "metadata": {},
     "output_type": "execute_result"
    }
   ],
   "source": [
    "# Step 1: Calculate average AQI per country\n",
    "avg_aqi = df.groupby('Country')['AQI Value'].mean()\n",
    "\n",
    "# Step 2: Define a function to assign zone type based on AQI\n",
    "def classify_zone(aqi):\n",
    "    if aqi >= 200:\n",
    "        return 'Industrial'\n",
    "    elif aqi >= 100:\n",
    "        return 'Urban'\n",
    "    else:\n",
    "        return 'Clean/Rural'\n",
    "\n",
    "# Step 3: Apply classification\n",
    "zone_type_map = avg_aqi.apply(classify_zone)\n",
    "\n",
    "# Step 4: Map the result to your main DataFrame\n",
    "df['Zone_Type'] = df['Country'].map(zone_type_map)\n",
    "\n",
    "# Optional: Check results\n",
    "df[['Country', 'AQI Value', 'Zone_Type']].head()\n"
   ]
  },
  {
   "cell_type": "markdown",
   "id": "8c8315f3",
   "metadata": {},
   "source": [
    "### 📈 AQI Violation Rate by Country"
   ]
  },
  {
   "cell_type": "code",
   "execution_count": 41,
   "id": "0effc16e",
   "metadata": {},
   "outputs": [
    {
     "data": {
      "image/png": "[encoded data removed]",
      "text/plain": [
       "<Figure size 1200x600 with 1 Axes>"
      ]
     },
     "metadata": {},
     "output_type": "display_data"
    }
   ],
   "source": [
    "import pandas as pd\n",
    "import matplotlib.pyplot as plt\n",
    "\n",
    "# Strip column names to remove trailing spaces\n",
    "df.columns = df.columns.str.strip()\n",
    "\n",
    "# Set threshold for AQI violation\n",
    "violation_limit = 100\n",
    "\n",
    "# Create violation indicator\n",
    "df['is_violation'] = df['AQI Value'] > violation_limit\n",
    "\n",
    "# Calculate violation rate per country\n",
    "violation_summary = df.groupby('Country')['is_violation'].mean()\n",
    "\n",
    "# Sort by violation rate descending\n",
    "violation_summary_sorted = violation_summary.sort_values(ascending=False)\n",
    "\n",
    "# --- Group smallest violators into \"Others\" ---\n",
    "# Set number of countries to show (e.g., top 10 violators)\n",
    "top_n = 40\n",
    "# \n",
    "# Separate top countries and others\n",
    "top_violators = violation_summary_sorted.head(top_n)\n",
    "others_sum = violation_summary_sorted.iloc[top_n:].sum()\n",
    "\n",
    "# Create new Series including \"Others\"\n",
    "violation_summary_grouped = top_violators.copy()\n",
    "violation_summary_grouped['Others'] = others_sum\n",
    "\n",
    "# --- Plot ---\n",
    "violation_summary_grouped.plot(\n",
    "    kind='bar',\n",
    "    figsize=(12, 6),\n",
    "    color='tomato',\n",
    "    title='Top AQI Violating Countries (Others Grouped)'\n",
    ")\n",
    "plt.ylabel('Violation Rate')\n",
    "plt.xlabel('Country')\n",
    "plt.xticks(rotation=45)\n",
    "plt.tight_layout()\n",
    "plt.show()\n"
   ]
  },
  {
   "cell_type": "markdown",
   "id": "cd5d7832",
   "metadata": {},
   "source": [
    "### 🌐 AQI Heatmap by Country"
   ]
  },
  {
   "cell_type": "code",
   "execution_count": 15,
   "id": "8c22d8b0",
   "metadata": {},
   "outputs": [
    {
     "data": {
      "application/vnd.plotly.v1+json": {
       "config": {
        "plotlyServerURL": "https://plot.ly"
       },
       "data": [
        {
         "coloraxis": "coloraxis",
         "geo": "geo",
         "hovertemplate": "Country=%{location}<br>AQI Value=%{z}<extra></extra>",
         "locationmode": "country names",
         "locations": [
          "Albania",
          "Algeria",
          "Andorra",
          "Angola",
          "Argentina",
          "Armenia",
          "Australia",
          "Austria",
          "Azerbaijan",
          "Bahrain",
          "Bangladesh",
          "Belarus",
          "Belgium",
          "Belize",
          "Bermuda",
          "Bolivia",
          "Bosnia and Herzegovina",
          "Brazil",
          "Brunei",
          "Bulgaria",
          "Burkina Faso",
          "Cambodia",
          "Canada",
          "Cape Verde",
          "Cayman Islands",
          "Central African Republic",
          "Chad",
          "Chile",
          "China",
          "Colombia",
          "Costa Rica",
          "Croatia",
          "Cyprus",
          "Czech Republic",
          "Denmark",
          "Dominican Republic",
          "Ecuador",
          "Egypt",
          "El Salvador",
          "Estonia",
          "Ethiopia",
          "Finland",
          "France",
          "French Guiana",
          "Gabon",
          "Gambia",
          "Georgia",
          "Germany",
          "Ghana",
          "Gibraltar",
          "Greece",
          "Grenada",
          "Guadeloupe",
          "Guam",
          "Guatemala",
          "Honduras",
          "Hong Kong",
          "Hungary",
          "Iceland",
          "India",
          "Indonesia",
          "Iran",
          "Iraq",
          "Ireland",
          "Israel",
          "Italy",
          "Ivory Coast",
          "Japan",
          "Jersey",
          "Jordan",
          "Kazakhstan",
          "Kenya",
          "Kosovo",
          "Kuwait",
          "Kyrgyzstan",
          "Laos",
          "Latvia",
          "Lebanon",
          "Liberia",
          "Liechtenstein",
          "Lithuania",
          "Luxembourg",
          "Macao",
          "Macedonia",
          "Madagascar",
          "Malaysia",
          "Malta",
          "Martinique",
          "Mexico",
          "Moldova",
          "Monaco",
          "Mongolia",
          "Montenegro",
          "Myanmar",
          "Nepal",
          "Netherlands",
          "New Caledonia",
          "New Zealand",
          "Nigeria",
          "Norway",
          "Pakistan",
          "Palestinian Territory",
          "Peru",
          "Philippines",
          "Poland",
          "Portugal",
          "Puerto Rico",
          "Qatar",
          "Reunion",
          "Romania",
          "Russia",
          "San Marino",
          "Saudi Arabia",
          "Senegal",
          "Serbia",
          "Singapore",
          "Slovakia",
          "Slovenia",
          "South Africa",
          "South Korea",
          "Spain",
          "Sri Lanka",
          "Sudan",
          "Sweden",
          "Switzerland",
          "Taiwan",
          "Tajikistan",
          "Thailand",
          "Togo",
          "Trinidad and Tobago",
          "Turkey",
          "Turkmenistan",
          "Uganda",
          "Ukraine",
          "United Arab Emirates",
          "United Kingdom of Great Britain and Northern Ireland",
          "United States of America",
          "Uzbekistan",
          "Vatican",
          "Venezuela",
          "Vietnam",
          "Zambia"
         ],
         "name": "",
         "type": "choropleth",
         "z": {
          "bdata": "B1Pks27wOUA7sRM7sVNOQOgh9BB6CDxAXnbZZZddW0BMJaYSUwlBQIQeQg+hh0tAkA3IBmSDSECDRcGiYFFDQAqSP6+yOENA+CkuGYK1X0Dz9NFqEoJiQLWz2lntrEFAyAZkA7IBS0C3bdu2bes1QCVJkiRJcitAU+SzbjDFT0A60hxpjjROQMN74b3w3lVAz2pntbPaJ0CVmEpMJSZEQAAAAAAAEFdA6ZM+6ZM+QUDq+nR9ur5RQIJOG+i0wUdAq6qqqqrKJEAfg/MxOH9bQMIKncEKnVZAXMYt45YxXkBzpDnSHAlmQHzhvfBe+FBA69uAoZqOPUA9hB5CD6FEQLIB2YBsQEtAQDYgG5CNUUBVYioxlZg0QDurndXOajpAeC+8F94LTkAP6qAO6uBWQKuqqqqq6lBAAAAAAAAAOECCytkt/HpgQKjr0/Xp+j1AuWXcMm5ZUUAvvBfeC+80QDmO4ziOA19A50CiFTYHOEAfQg+hh1BLQNen69P16VVA+cWSXyxZUUC4HoXrUXhBQLeMW8YtY0pASZIkSZJELUBw8jf5m/w2QA5zmMMc5ghA5RdLfrEkTUCSJEmSJKlBQKjr0/Xp+ktAjC666KJLTkAvvBfeC+8yQKjr0/XpemtA+MJ74b0wWkAAAAAAABBjQEVRFEVRZGNA+MJ74b3wPkAbkA3IBiRTQCd/k7/Jn1JA89iKoOFkS0BVYioxldhTQGlpaWlpyT5Ad1Y7q53VPECfrk/Xp+tVQBSuR+F6NFJAQacNdNoARUBGzrDgUtlcQGJyBTG5AlBADsgGZAMyT0Cfrk/Xp+s3QDwb9Z2NWlNAUg6IDPcqRkAK16NwPQo4QOr6dH26Pj5Aj8L1KFxPQUDFVGIqMRVPQC7jlnHLuE5AjYn0QOVsUEBJc6Q50hxQQKRwPQrX40NAjjRHmiNNQkBhUbAoWFRZQDNuGbeMWzNAgWxANiCbQEAPoYfQQ2hPQEToIfQQ+kRAO6ud1c7qTkAgG5ANyMZUQHDyN/mbfFBAVVVVVVXVNEDnSHOkOdI+QHIcx3EcL1dA7ax2VjurPED5m/xN/iZZQHoIPYQeAlBAuj5dn66PVUCTXyz5xZJRQFViKjGVmFFAkA3IBmQDPUBJkiRJkuQpQIuV4RtRAGNAZAOyAdmAMkD9Tf4mf5NRQAoWBYuCxVdA/U3+Jn+TR0AAAAAAAOBVQF3Lwc1+oUVAgWxANiBbVEDIBmQDsgFIQPjCe+G98EtAwaJgUbCoRUBJc6Q50pxWQJojzZHmyFVAO6ud1c5qU0Cc/E3+Jn9NQCd2Yid24lRAFgWLgkXBPUBm3DJuGTdDQP4mf5O/iVBATxvotIHOVUByy7hl3HJcQDMzMzMzE1NAsChYFCyKQEDlb/I3+RtaQI502EiHjVBAKme38KuBYEB9uj5dny5NQHdWO6udFV1AS0wlphITUEBO/iZ/k39eQAAAAAAAIFBAO6ud1c5qR0BD3pA35A0vQP4mf5O/CVVAtJfQXkJ7XUA=",
          "dtype": "f8"
         }
        }
       ],
       "layout": {
        "coloraxis": {
         "colorbar": {
          "title": {
           "text": "AQI Value"
          }
         },
         "colorscale": [
          [
           0,
           "rgb(255,245,240)"
          ],
          [
           0.125,
           "rgb(254,224,210)"
          ],
          [
           0.25,
           "rgb(252,187,161)"
          ],
          [
           0.375,
           "rgb(252,146,114)"
          ],
          [
           0.5,
           "rgb(251,106,74)"
          ],
          [
           0.625,
           "rgb(239,59,44)"
          ],
          [
           0.75,
           "rgb(203,24,29)"
          ],
          [
           0.875,
           "rgb(165,15,21)"
          ],
          [
           1,
           "rgb(103,0,13)"
          ]
         ]
        },
        "geo": {
         "center": {},
         "domain": {
          "x": [
           0,
           1
          ],
          "y": [
           0,
           1
          ]
         }
        },
        "legend": {
         "tracegroupgap": 0
        },
        "template": {
         "data": {
          "bar": [
           {
            "error_x": {
             "color": "#2a3f5f"
            },
            "error_y": {
             "color": "#2a3f5f"
            },
            "marker": {
             "line": {
              "color": "#E5ECF6",
              "width": 0.5
             },
             "pattern": {
              "fillmode": "overlay",
              "size": 10,
              "solidity": 0.2
             }
            },
            "type": "bar"
           }
          ],
          "barpolar": [
           {
            "marker": {
             "line": {
              "color": "#E5ECF6",
              "width": 0.5
             },
             "pattern": {
              "fillmode": "overlay",
              "size": 10,
              "solidity": 0.2
             }
            },
            "type": "barpolar"
           }
          ],
          "carpet": [
           {
            "aaxis": {
             "endlinecolor": "#2a3f5f",
             "gridcolor": "white",
             "linecolor": "white",
             "minorgridcolor": "white",
             "startlinecolor": "#2a3f5f"
            },
            "baxis": {
             "endlinecolor": "#2a3f5f",
             "gridcolor": "white",
             "linecolor": "white",
             "minorgridcolor": "white",
             "startlinecolor": "#2a3f5f"
            },
            "type": "carpet"
           }
          ],
          "choropleth": [
           {
            "colorbar": {
             "outlinewidth": 0,
             "ticks": ""
            },
            "type": "choropleth"
           }
          ],
          "contour": [
           {
            "colorbar": {
             "outlinewidth": 0,
             "ticks": ""
            },
            "colorscale": [
             [
              0,
              "#0d0887"
             ],
             [
              0.1111111111111111,
              "#46039f"
             ],
             [
              0.2222222222222222,
              "#7201a8"
             ],
             [
              0.3333333333333333,
              "#9c179e"
             ],
             [
              0.4444444444444444,
              "#bd3786"
             ],
             [
              0.5555555555555556,
              "#d8576b"
             ],
             [
              0.6666666666666666,
              "#ed7953"
             ],
             [
              0.7777777777777778,
              "#fb9f3a"
             ],
             [
              0.8888888888888888,
              "#fdca26"
             ],
             [
              1,
              "#f0f921"
             ]
            ],
            "type": "contour"
           }
          ],
          "contourcarpet": [
           {
            "colorbar": {
             "outlinewidth": 0,
             "ticks": ""
            },
            "type": "contourcarpet"
           }
          ],
          "heatmap": [
           {
            "colorbar": {
             "outlinewidth": 0,
             "ticks": ""
            },
            "colorscale": [
             [
              0,
              "#0d0887"
             ],
             [
              0.1111111111111111,
              "#46039f"
             ],
             [
              0.2222222222222222,
              "#7201a8"
             ],
             [
              0.3333333333333333,
              "#9c179e"
             ],
             [
              0.4444444444444444,
              "#bd3786"
             ],
             [
              0.5555555555555556,
              "#d8576b"
             ],
             [
              0.6666666666666666,
              "#ed7953"
             ],
             [
              0.7777777777777778,
              "#fb9f3a"
             ],
             [
              0.8888888888888888,
              "#fdca26"
             ],
             [
              1,
              "#f0f921"
             ]
            ],
            "type": "heatmap"
           }
          ],
          "histogram": [
           {
            "marker": {
             "pattern": {
              "fillmode": "overlay",
              "size": 10,
              "solidity": 0.2
             }
            },
            "type": "histogram"
           }
          ],
          "histogram2d": [
           {
            "colorbar": {
             "outlinewidth": 0,
             "ticks": ""
            },
            "colorscale": [
             [
              0,
              "#0d0887"
             ],
             [
              0.1111111111111111,
              "#46039f"
             ],
             [
              0.2222222222222222,
              "#7201a8"
             ],
             [
              0.3333333333333333,
              "#9c179e"
             ],
             [
              0.4444444444444444,
              "#bd3786"
             ],
             [
              0.5555555555555556,
              "#d8576b"
             ],
             [
              0.6666666666666666,
              "#ed7953"
             ],
             [
              0.7777777777777778,
              "#fb9f3a"
             ],
             [
              0.8888888888888888,
              "#fdca26"
             ],
             [
              1,
              "#f0f921"
             ]
            ],
            "type": "histogram2d"
           }
          ],
          "histogram2dcontour": [
           {
            "colorbar": {
             "outlinewidth": 0,
             "ticks": ""
            },
            "colorscale": [
             [
              0,
              "#0d0887"
             ],
             [
              0.1111111111111111,
              "#46039f"
             ],
             [
              0.2222222222222222,
              "#7201a8"
             ],
             [
              0.3333333333333333,
              "#9c179e"
             ],
             [
              0.4444444444444444,
              "#bd3786"
             ],
             [
              0.5555555555555556,
              "#d8576b"
             ],
             [
              0.6666666666666666,
              "#ed7953"
             ],
             [
              0.7777777777777778,
              "#fb9f3a"
             ],
             [
              0.8888888888888888,
              "#fdca26"
             ],
             [
              1,
              "#f0f921"
             ]
            ],
            "type": "histogram2dcontour"
           }
          ],
          "mesh3d": [
           {
            "colorbar": {
             "outlinewidth": 0,
             "ticks": ""
            },
            "type": "mesh3d"
           }
          ],
          "parcoords": [
           {
            "line": {
             "colorbar": {
              "outlinewidth": 0,
              "ticks": ""
             }
            },
            "type": "parcoords"
           }
          ],
          "pie": [
           {
            "automargin": true,
            "type": "pie"
           }
          ],
          "scatter": [
           {
            "fillpattern": {
             "fillmode": "overlay",
             "size": 10,
             "solidity": 0.2
            },
            "type": "scatter"
           }
          ],
          "scatter3d": [
           {
            "line": {
             "colorbar": {
              "outlinewidth": 0,
              "ticks": ""
             }
            },
            "marker": {
             "colorbar": {
              "outlinewidth": 0,
              "ticks": ""
             }
            },
            "type": "scatter3d"
           }
          ],
          "scattercarpet": [
           {
            "marker": {
             "colorbar": {
              "outlinewidth": 0,
              "ticks": ""
             }
            },
            "type": "scattercarpet"
           }
          ],
          "scattergeo": [
           {
            "marker": {
             "colorbar": {
              "outlinewidth": 0,
              "ticks": ""
             }
            },
            "type": "scattergeo"
           }
          ],
          "scattergl": [
           {
            "marker": {
             "colorbar": {
              "outlinewidth": 0,
              "ticks": ""
             }
            },
            "type": "scattergl"
           }
          ],
          "scattermap": [
           {
            "marker": {
             "colorbar": {
              "outlinewidth": 0,
              "ticks": ""
             }
            },
            "type": "scattermap"
           }
          ],
          "scattermapbox": [
           {
            "marker": {
             "colorbar": {
              "outlinewidth": 0,
              "ticks": ""
             }
            },
            "type": "scattermapbox"
           }
          ],
          "scatterpolar": [
           {
            "marker": {
             "colorbar": {
              "outlinewidth": 0,
              "ticks": ""
             }
            },
            "type": "scatterpolar"
           }
          ],
          "scatterpolargl": [
           {
            "marker": {
             "colorbar": {
              "outlinewidth": 0,
              "ticks": ""
             }
            },
            "type": "scatterpolargl"
           }
          ],
          "scatterternary": [
           {
            "marker": {
             "colorbar": {
              "outlinewidth": 0,
              "ticks": ""
             }
            },
            "type": "scatterternary"
           }
          ],
          "surface": [
           {
            "colorbar": {
             "outlinewidth": 0,
             "ticks": ""
            },
            "colorscale": [
             [
              0,
              "#0d0887"
             ],
             [
              0.1111111111111111,
              "#46039f"
             ],
             [
              0.2222222222222222,
              "#7201a8"
             ],
             [
              0.3333333333333333,
              "#9c179e"
             ],
             [
              0.4444444444444444,
              "#bd3786"
             ],
             [
              0.5555555555555556,
              "#d8576b"
             ],
             [
              0.6666666666666666,
              "#ed7953"
             ],
             [
              0.7777777777777778,
              "#fb9f3a"
             ],
             [
              0.8888888888888888,
              "#fdca26"
             ],
             [
              1,
              "#f0f921"
             ]
            ],
            "type": "surface"
           }
          ],
          "table": [
           {
            "cells": {
             "fill": {
              "color": "#EBF0F8"
             },
             "line": {
              "color": "white"
             }
            },
            "header": {
             "fill": {
              "color": "#C8D4E3"
             },
             "line": {
              "color": "white"
             }
            },
            "type": "table"
           }
          ]
         },
         "layout": {
          "annotationdefaults": {
           "arrowcolor": "#2a3f5f",
           "arrowhead": 0,
           "arrowwidth": 1
          },
          "autotypenumbers": "strict",
          "coloraxis": {
           "colorbar": {
            "outlinewidth": 0,
            "ticks": ""
           }
          },
          "colorscale": {
           "diverging": [
            [
             0,
             "#8e0152"
            ],
            [
             0.1,
             "#c51b7d"
            ],
            [
             0.2,
             "#de77ae"
            ],
            [
             0.3,
             "#f1b6da"
            ],
            [
             0.4,
             "#fde0ef"
            ],
            [
             0.5,
             "#f7f7f7"
            ],
            [
             0.6,
             "#e6f5d0"
            ],
            [
             0.7,
             "#b8e186"
            ],
            [
             0.8,
             "#7fbc41"
            ],
            [
             0.9,
             "#4d9221"
            ],
            [
             1,
             "#276419"
            ]
           ],
           "sequential": [
            [
             0,
             "#0d0887"
            ],
            [
             0.1111111111111111,
             "#46039f"
            ],
            [
             0.2222222222222222,
             "#7201a8"
            ],
            [
             0.3333333333333333,
             "#9c179e"
            ],
            [
             0.4444444444444444,
             "#bd3786"
            ],
            [
             0.5555555555555556,
             "#d8576b"
            ],
            [
             0.6666666666666666,
             "#ed7953"
            ],
            [
             0.7777777777777778,
             "#fb9f3a"
            ],
            [
             0.8888888888888888,
             "#fdca26"
            ],
            [
             1,
             "#f0f921"
            ]
           ],
           "sequentialminus": [
            [
             0,
             "#0d0887"
            ],
            [
             0.1111111111111111,
             "#46039f"
            ],
            [
             0.2222222222222222,
             "#7201a8"
            ],
            [
             0.3333333333333333,
             "#9c179e"
            ],
            [
             0.4444444444444444,
             "#bd3786"
            ],
            [
             0.5555555555555556,
             "#d8576b"
            ],
            [
             0.6666666666666666,
             "#ed7953"
            ],
            [
             0.7777777777777778,
             "#fb9f3a"
            ],
            [
             0.8888888888888888,
             "#fdca26"
            ],
            [
             1,
             "#f0f921"
            ]
           ]
          },
          "colorway": [
           "#636efa",
           "#EF553B",
           "#00cc96",
           "#ab63fa",
           "#FFA15A",
           "#19d3f3",
           "#FF6692",
           "#B6E880",
           "#FF97FF",
           "#FECB52"
          ],
          "font": {
           "color": "#2a3f5f"
          },
          "geo": {
           "bgcolor": "white",
           "lakecolor": "white",
           "landcolor": "#E5ECF6",
           "showlakes": true,
           "showland": true,
           "subunitcolor": "white"
          },
          "hoverlabel": {
           "align": "left"
          },
          "hovermode": "closest",
          "mapbox": {
           "style": "light"
          },
          "paper_bgcolor": "white",
          "plot_bgcolor": "#E5ECF6",
          "polar": {
           "angularaxis": {
            "gridcolor": "white",
            "linecolor": "white",
            "ticks": ""
           },
           "bgcolor": "#E5ECF6",
           "radialaxis": {
            "gridcolor": "white",
            "linecolor": "white",
            "ticks": ""
           }
          },
          "scene": {
           "xaxis": {
            "backgroundcolor": "#E5ECF6",
            "gridcolor": "white",
            "gridwidth": 2,
            "linecolor": "white",
            "showbackground": true,
            "ticks": "",
            "zerolinecolor": "white"
           },
           "yaxis": {
            "backgroundcolor": "#E5ECF6",
            "gridcolor": "white",
            "gridwidth": 2,
            "linecolor": "white",
            "showbackground": true,
            "ticks": "",
            "zerolinecolor": "white"
           },
           "zaxis": {
            "backgroundcolor": "#E5ECF6",
            "gridcolor": "white",
            "gridwidth": 2,
            "linecolor": "white",
            "showbackground": true,
            "ticks": "",
            "zerolinecolor": "white"
           }
          },
          "shapedefaults": {
           "line": {
            "color": "#2a3f5f"
           }
          },
          "ternary": {
           "aaxis": {
            "gridcolor": "white",
            "linecolor": "white",
            "ticks": ""
           },
           "baxis": {
            "gridcolor": "white",
            "linecolor": "white",
            "ticks": ""
           },
           "bgcolor": "#E5ECF6",
           "caxis": {
            "gridcolor": "white",
            "linecolor": "white",
            "ticks": ""
           }
          },
          "title": {
           "x": 0.05
          },
          "xaxis": {
           "automargin": true,
           "gridcolor": "white",
           "linecolor": "white",
           "ticks": "",
           "title": {
            "standoff": 15
           },
           "zerolinecolor": "white",
           "zerolinewidth": 2
          },
          "yaxis": {
           "automargin": true,
           "gridcolor": "white",
           "linecolor": "white",
           "ticks": "",
           "title": {
            "standoff": 15
           },
           "zerolinecolor": "white",
           "zerolinewidth": 2
          }
         }
        },
        "title": {
         "text": "Average AQI by Country"
        }
       }
      },
      "image/png": "[encoded data removed]"
     },
     "metadata": {},
     "output_type": "display_data"
    }
   ],
   "source": [
    "import plotly.express as px\n",
    "\n",
    "country_avg = df.groupby(\"Country\")[\"AQI Value\"].mean().reset_index()\n",
    "fig = px.choropleth(country_avg, locations=\"Country\", locationmode=\"country names\",\n",
    "                    color=\"AQI Value\", color_continuous_scale=\"Reds\",\n",
    "                    title=\"Average AQI by Country\")\n",
    "fig.show()"
   ]
  },
  {
   "cell_type": "markdown",
   "id": "0e38fb3e",
   "metadata": {},
   "source": [
    "### 📊 Monthly AQI Trend"
   ]
  },
  {
   "cell_type": "code",
   "execution_count": 16,
   "id": "4f654c9e",
   "metadata": {},
   "outputs": [
    {
     "data": {
      "text/plain": [
       "<Axes: title={'center': 'Monthly Average AQI Trend'}, xlabel='Date'>"
      ]
     },
     "execution_count": 16,
     "metadata": {},
     "output_type": "execute_result"
    },
    {
     "data": {
      "image/png": "[encoded data removed]",
      "text/plain": [
       "<Figure size 1200x500 with 1 Axes>"
      ]
     },
     "metadata": {},
     "output_type": "display_data"
    }
   ],
   "source": [
    "df['Date'] = pd.to_datetime(df['Date'])\n",
    "monthly_avg = df.groupby(df['Date'].dt.to_period('M'))['AQI Value'].mean()\n",
    "monthly_avg.plot(title='Monthly Average AQI Trend', figsize=(12, 5))"
   ]
  },
  {
   "cell_type": "markdown",
   "id": "ac0a4fea",
   "metadata": {},
   "source": [
    "### ✅ Regulatory Compliance Table"
   ]
  },
  {
   "cell_type": "code",
   "execution_count": 46,
   "id": "6163b737",
   "metadata": {},
   "outputs": [],
   "source": [
    "# # STEP 1: Calculate compliance / violation percentage\n",
    "# df['is_violation'] = df['AQI Value'] > 100  # Modify limit as per CPCB\n",
    "\n",
    "# violation_summary = df.groupby('Country')['is_violation'].mean()\n",
    "\n",
    "# # STEP 2: Define threshold (e.g., < 1% of all violations)\n",
    "# threshold = 0.01\n",
    "\n",
    "# # STEP 3: Split major and minor violators\n",
    "# major = violation_summary[violation_summary >= threshold]\n",
    "# minor = violation_summary[violation_summary < threshold]\n",
    "\n",
    "# # STEP 4: Combine minor violators into 'Others'\n",
    "# violation_summary_grouped = major.copy()\n",
    "# violation_summary_grouped['Others'] = minor.sum()\n",
    "\n",
    "# # STEP 5: Plot\n",
    "# violation_summary_grouped.sort_values(ascending=False).plot(\n",
    "#     kind='bar',\n",
    "#     title='Regulatory Violation Rate by Country (Grouped)',\n",
    "#     figsize=(12, 6),\n",
    "#     color='orange'\n",
    "# )\n"
   ]
  },
  {
   "cell_type": "code",
   "execution_count": 67,
   "id": "9d80556d-bafe-4483-9f16-08e3ef61f1f2",
   "metadata": {},
   "outputs": [],
   "source": [
    "import pandas as pd\n",
    "import matplotlib.pyplot as plt\n",
    "import seaborn as sns\n",
    "from ipywidgets import interact, widgets\n",
    "\n",
    "# Ensure date column is datetime\n",
    "df['date'] = pd.to_datetime(df['Date'])\n",
    "df['month'] = df['Date'].dt.to_period('M').astype(str)\n",
    "\n",
    "# Dropdown options\n",
    "countries = df['Country'].dropna().unique().tolist()\n",
    "\n",
    "# Main function to analyze selected country\n",
    "def analyze_country(selected_country):\n",
    "    df_country = df[df['Country'] == selected_country]\n",
    "\n",
    "    if df_country.empty:\n",
    "        print(\"No data available for this country.\")\n",
    "        return\n",
    "\n",
    "    # Monthly average AQI\n",
    "    df_monthly = df_country.groupby('month')['AQI Value'].mean().reset_index()\n",
    "\n",
    "    plt.figure(figsize=(12, 5))\n",
    "    sns.lineplot(data=df_monthly, x='month', y='AQI Value', marker='o', color='orange')\n",
    "    plt.title(f\"📈 Monthly AQI Trend - {selected_country}\")\n",
    "    plt.xlabel(\"Month\")\n",
    "    plt.ylabel(\"Average AQI\")\n",
    "    plt.xticks(rotation=45)\n",
    "    plt.grid(True)\n",
    "    plt.show()\n",
    "\n",
    "    # Summary insights\n",
    "    avg_aqi = df_country['AQI Value'].mean()\n",
    "    best = df_monthly.loc[df_monthly['AQI Value'].idxmin()]\n",
    "    worst = df_monthly.loc[df_monthly['AQI Value'].idxmax()]\n",
    "\n",
    "    print(f\"✅ Average AQI in {selected_country}: {avg_aqi:.2f}\")\n",
    "    print(f\"🟢 Best Air Quality Month: {best['month']} with AQI {best['AQI Value']:.2f}\")\n",
    "    print(f\"🔴 Worst Air Quality Month: {worst['month']} with AQI {worst['AQI Value']:.2f}\")\n",
    "\n",
    "    \n",
    "    # from numpy import polyfit, polyval\n",
    "    # trend = polyfit(range(len(df)), df['AQI Value'], 1)\n",
    "    # plt.plot(df['month'], polyval(trend, range(len(df))), 'r--', label='Trend')\n",
    "    \n"
   ]
  },
  {
   "cell_type": "code",
   "execution_count": 68,
   "id": "a74b44e8-1b43-412e-94fa-400556177cc0",
   "metadata": {
    "scrolled": true
   },
   "outputs": [
    {
     "data": {
      "application/vnd.jupyter.widget-view+json": {
       "model_id": "8bc0632e5cfe475b8f7e1bbf64b79bfc",
       "version_major": 2,
       "version_minor": 0
      },
      "text/plain": [
       "interactive(children=(Dropdown(description='Country:', options=('Albania', 'Algeria', 'Andorra', 'Angola', 'Ar…"
      ]
     },
     "metadata": {},
     "output_type": "display_data"
    },
    {
     "data": {
      "text/plain": [
       "<function __main__.analyze_country(selected_country)>"
      ]
     },
     "execution_count": 68,
     "metadata": {},
     "output_type": "execute_result"
    }
   ],
   "source": [
    "interact(analyze_country, selected_country=widgets.Dropdown(options=countries, description=\"Country:\"))\n",
    "\n"
   ]
  },
  {
   "cell_type": "code",
   "execution_count": null,
   "id": "eda64c08-e871-44cf-88bc-4db8bb25f654",
   "metadata": {},
   "outputs": [],
   "source": []
  }
 ],
 "metadata": {
  "kernelspec": {
   "display_name": "Python 3 (ipykernel)",
   "language": "python",
   "name": "python3"
  },
  "language_info": {
   "codemirror_mode": {
    "name": "ipython",
    "version": 3
   },
   "file_extension": ".py",
   "mimetype": "text/x-python",
   "name": "python",
   "nbconvert_exporter": "python",
   "pygments_lexer": "ipython3",
   "version": "3.13.1"
  }
 },
 "nbformat": 4,
 "nbformat_minor": 5
}
